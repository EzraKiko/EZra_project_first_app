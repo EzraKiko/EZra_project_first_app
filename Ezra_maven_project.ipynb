{
 "cells": [
  {
   "cell_type": "markdown",
   "metadata": {},
   "source": [
    "### INTRODUCTION and PROBLEM\n",
    ">Maven cloud limited is a telecommunication company with a problem of making sense of its collected call records towards making accurate predictions of the most likely phone call-type to receive in the future with the corresponding features\n"
   ]
  },
  {
   "cell_type": "markdown",
   "metadata": {},
   "source": [
    "## Import relevant libraries"
   ]
  },
  {
   "cell_type": "code",
   "execution_count": 51,
   "metadata": {},
   "outputs": [],
   "source": [
    "#import the data manipulation libraries for our analysis and machine learning\n",
    "import pandas as pd\n",
    "import numpy as np\n",
    "import statistics as stat\n",
    "import datetime\n",
    "\n",
    "\n",
    "#import the data visualization libraries\n",
    "import matplotlib.pyplot as plt\n",
    "import seaborn as sns\n",
    "\n",
    "# Importing data encoding libraries\n",
    "from sklearn.preprocessing import LabelEncoder\n",
    "\n",
    "# Importing data scaling libraries\n",
    "from sklearn.preprocessing import StandardScaler\n",
    "\n",
    "#Evaluation libraries\n",
    "from sklearn.tree import DecisionTreeClassifier\n",
    "from sklearn.model_selection import train_test_split\n",
    "\n",
    "from sklearn.model_selection import learning_curve\n",
    "from sklearn.model_selection import validation_curve\n",
    "from sklearn.model_selection import cross_val_score\n",
    "\n",
    "from sklearn.metrics import accuracy_score\n",
    "from sklearn.metrics import classification_report\n",
    "from sklearn.metrics import accuracy_score\n",
    "\n",
    "from sklearn import metrics \n",
    "from sklearn.metrics import confusion_matrix"
   ]
  },
  {
   "cell_type": "markdown",
   "metadata": {},
   "source": [
    "## Import the dataset"
   ]
  },
  {
   "cell_type": "code",
   "execution_count": 52,
   "metadata": {},
   "outputs": [],
   "source": [
    "# load the dataset\n",
    "data = pd.read_csv(\"mavencloudlimited_call_records.csv\")"
   ]
  },
  {
   "cell_type": "markdown",
   "metadata": {},
   "source": [
    "## Make a copy of the dataset"
   ]
  },
  {
   "cell_type": "code",
   "execution_count": 53,
   "metadata": {},
   "outputs": [
    {
     "data": {
      "text/html": [
       "<div>\n",
       "<style scoped>\n",
       "    .dataframe tbody tr th:only-of-type {\n",
       "        vertical-align: middle;\n",
       "    }\n",
       "\n",
       "    .dataframe tbody tr th {\n",
       "        vertical-align: top;\n",
       "    }\n",
       "\n",
       "    .dataframe thead th {\n",
       "        text-align: right;\n",
       "    }\n",
       "</style>\n",
       "<table border=\"1\" class=\"dataframe\">\n",
       "  <thead>\n",
       "    <tr style=\"text-align: right;\">\n",
       "      <th></th>\n",
       "      <th>call_id</th>\n",
       "      <th>destination_person_id</th>\n",
       "      <th>source_person_id</th>\n",
       "      <th>account_age</th>\n",
       "      <th>account_state</th>\n",
       "      <th>occupation</th>\n",
       "      <th>language</th>\n",
       "      <th>call_direction</th>\n",
       "      <th>call_duration</th>\n",
       "      <th>call_outcome</th>\n",
       "      <th>call_end_date</th>\n",
       "      <th>call_topics</th>\n",
       "      <th>call_topic_group</th>\n",
       "    </tr>\n",
       "  </thead>\n",
       "  <tbody>\n",
       "    <tr>\n",
       "      <th>0</th>\n",
       "      <td>2807990</td>\n",
       "      <td>86394</td>\n",
       "      <td>269898</td>\n",
       "      <td>301</td>\n",
       "      <td>In Repayment</td>\n",
       "      <td>Farmer</td>\n",
       "      <td>Luganda</td>\n",
       "      <td>Incoming</td>\n",
       "      <td>0.78</td>\n",
       "      <td>Call Resolved</td>\n",
       "      <td>10/21/17 4:01</td>\n",
       "      <td>Call Dropped</td>\n",
       "      <td>Other</td>\n",
       "    </tr>\n",
       "    <tr>\n",
       "      <th>1</th>\n",
       "      <td>2807991</td>\n",
       "      <td>86394</td>\n",
       "      <td>320367</td>\n",
       "      <td>122</td>\n",
       "      <td>In Repayment</td>\n",
       "      <td>Other</td>\n",
       "      <td>Luganda</td>\n",
       "      <td>Incoming</td>\n",
       "      <td>1.93</td>\n",
       "      <td>Call Resolved</td>\n",
       "      <td>10/21/17 4:04</td>\n",
       "      <td>Code Not Received</td>\n",
       "      <td>Codes</td>\n",
       "    </tr>\n",
       "    <tr>\n",
       "      <th>2</th>\n",
       "      <td>2807992</td>\n",
       "      <td>212967</td>\n",
       "      <td>129042</td>\n",
       "      <td>695</td>\n",
       "      <td>In Repayment</td>\n",
       "      <td>Mechanic / Technician</td>\n",
       "      <td>Luganda</td>\n",
       "      <td>Incoming</td>\n",
       "      <td>4.90</td>\n",
       "      <td>Call Resolved</td>\n",
       "      <td>10/21/17 4:05</td>\n",
       "      <td>RP Remote Technical</td>\n",
       "      <td>Accessory Technical Issue</td>\n",
       "    </tr>\n",
       "    <tr>\n",
       "      <th>3</th>\n",
       "      <td>2807993</td>\n",
       "      <td>114159</td>\n",
       "      <td>372282</td>\n",
       "      <td>22</td>\n",
       "      <td>In Repayment</td>\n",
       "      <td>Farmer</td>\n",
       "      <td>Lango</td>\n",
       "      <td>Incoming</td>\n",
       "      <td>3.77</td>\n",
       "      <td>Call Resolved</td>\n",
       "      <td>10/21/17 4:06</td>\n",
       "      <td>Code Not Received</td>\n",
       "      <td>Codes</td>\n",
       "    </tr>\n",
       "    <tr>\n",
       "      <th>4</th>\n",
       "      <td>2807994</td>\n",
       "      <td>86394</td>\n",
       "      <td>366749</td>\n",
       "      <td>44</td>\n",
       "      <td>In Repayment</td>\n",
       "      <td>Electrician</td>\n",
       "      <td>Luganda</td>\n",
       "      <td>Incoming</td>\n",
       "      <td>2.62</td>\n",
       "      <td>Call Resolved</td>\n",
       "      <td>10/21/17 4:07</td>\n",
       "      <td>Code Not Received</td>\n",
       "      <td>Codes</td>\n",
       "    </tr>\n",
       "    <tr>\n",
       "      <th>...</th>\n",
       "      <td>...</td>\n",
       "      <td>...</td>\n",
       "      <td>...</td>\n",
       "      <td>...</td>\n",
       "      <td>...</td>\n",
       "      <td>...</td>\n",
       "      <td>...</td>\n",
       "      <td>...</td>\n",
       "      <td>...</td>\n",
       "      <td>...</td>\n",
       "      <td>...</td>\n",
       "      <td>...</td>\n",
       "      <td>...</td>\n",
       "    </tr>\n",
       "    <tr>\n",
       "      <th>32023</th>\n",
       "      <td>2855830</td>\n",
       "      <td>338414</td>\n",
       "      <td>361079</td>\n",
       "      <td>68</td>\n",
       "      <td>In Repayment</td>\n",
       "      <td>Small Business Owner</td>\n",
       "      <td>Lunyankore</td>\n",
       "      <td>Incoming</td>\n",
       "      <td>6.55</td>\n",
       "      <td>Call Resolved</td>\n",
       "      <td>11-03-17 15:08</td>\n",
       "      <td>MM Issue</td>\n",
       "      <td>Finance</td>\n",
       "    </tr>\n",
       "    <tr>\n",
       "      <th>32024</th>\n",
       "      <td>2855832</td>\n",
       "      <td>157397</td>\n",
       "      <td>302921</td>\n",
       "      <td>183</td>\n",
       "      <td>In Repayment</td>\n",
       "      <td>Farmer</td>\n",
       "      <td>Ma'di</td>\n",
       "      <td>Incoming</td>\n",
       "      <td>12.90</td>\n",
       "      <td>Call Resolved</td>\n",
       "      <td>11-03-17 15:09</td>\n",
       "      <td>Redeem Code, Code Entry Support</td>\n",
       "      <td>Codes</td>\n",
       "    </tr>\n",
       "    <tr>\n",
       "      <th>32025</th>\n",
       "      <td>2855835</td>\n",
       "      <td>80646</td>\n",
       "      <td>229800</td>\n",
       "      <td>386</td>\n",
       "      <td>In Repayment</td>\n",
       "      <td>Farmer</td>\n",
       "      <td>Luganda</td>\n",
       "      <td>Incoming</td>\n",
       "      <td>1.25</td>\n",
       "      <td>Call Resolved</td>\n",
       "      <td>11-03-17 15:09</td>\n",
       "      <td>Ended Call- Hearing/Speaking Issues</td>\n",
       "      <td>Other</td>\n",
       "    </tr>\n",
       "    <tr>\n",
       "      <th>32026</th>\n",
       "      <td>2855836</td>\n",
       "      <td>338372</td>\n",
       "      <td>8029</td>\n",
       "      <td>1146</td>\n",
       "      <td>Cancelled</td>\n",
       "      <td>Boda Boda</td>\n",
       "      <td>English</td>\n",
       "      <td>Incoming</td>\n",
       "      <td>2.98</td>\n",
       "      <td>Call Resolved</td>\n",
       "      <td>11-03-17 15:10</td>\n",
       "      <td>Account Association</td>\n",
       "      <td>Sales</td>\n",
       "    </tr>\n",
       "    <tr>\n",
       "      <th>32027</th>\n",
       "      <td>2855837</td>\n",
       "      <td>124255</td>\n",
       "      <td>387315</td>\n",
       "      <td>0</td>\n",
       "      <td>In Repayment</td>\n",
       "      <td>Small Business Owner</td>\n",
       "      <td>Luganda</td>\n",
       "      <td>Incoming</td>\n",
       "      <td>3.08</td>\n",
       "      <td>Call Resolved</td>\n",
       "      <td>11-03-17 15:11</td>\n",
       "      <td>Account Association</td>\n",
       "      <td>Sales</td>\n",
       "    </tr>\n",
       "  </tbody>\n",
       "</table>\n",
       "<p>32028 rows × 13 columns</p>\n",
       "</div>"
      ],
      "text/plain": [
       "       call_id  destination_person_id  source_person_id  account_age  \\\n",
       "0      2807990                  86394            269898          301   \n",
       "1      2807991                  86394            320367          122   \n",
       "2      2807992                 212967            129042          695   \n",
       "3      2807993                 114159            372282           22   \n",
       "4      2807994                  86394            366749           44   \n",
       "...        ...                    ...               ...          ...   \n",
       "32023  2855830                 338414            361079           68   \n",
       "32024  2855832                 157397            302921          183   \n",
       "32025  2855835                  80646            229800          386   \n",
       "32026  2855836                 338372              8029         1146   \n",
       "32027  2855837                 124255            387315            0   \n",
       "\n",
       "      account_state             occupation    language call_direction  \\\n",
       "0      In Repayment                 Farmer     Luganda       Incoming   \n",
       "1      In Repayment                  Other     Luganda       Incoming   \n",
       "2      In Repayment  Mechanic / Technician     Luganda       Incoming   \n",
       "3      In Repayment                 Farmer       Lango       Incoming   \n",
       "4      In Repayment            Electrician     Luganda       Incoming   \n",
       "...             ...                    ...         ...            ...   \n",
       "32023  In Repayment   Small Business Owner  Lunyankore       Incoming   \n",
       "32024  In Repayment                 Farmer       Ma'di       Incoming   \n",
       "32025  In Repayment                 Farmer     Luganda       Incoming   \n",
       "32026     Cancelled              Boda Boda     English       Incoming   \n",
       "32027  In Repayment   Small Business Owner     Luganda       Incoming   \n",
       "\n",
       "       call_duration   call_outcome   call_end_date  \\\n",
       "0               0.78  Call Resolved   10/21/17 4:01   \n",
       "1               1.93  Call Resolved   10/21/17 4:04   \n",
       "2               4.90  Call Resolved   10/21/17 4:05   \n",
       "3               3.77  Call Resolved   10/21/17 4:06   \n",
       "4               2.62  Call Resolved   10/21/17 4:07   \n",
       "...              ...            ...             ...   \n",
       "32023           6.55  Call Resolved  11-03-17 15:08   \n",
       "32024          12.90  Call Resolved  11-03-17 15:09   \n",
       "32025           1.25  Call Resolved  11-03-17 15:09   \n",
       "32026           2.98  Call Resolved  11-03-17 15:10   \n",
       "32027           3.08  Call Resolved  11-03-17 15:11   \n",
       "\n",
       "                               call_topics           call_topic_group  \n",
       "0                             Call Dropped                      Other  \n",
       "1                        Code Not Received                      Codes  \n",
       "2                      RP Remote Technical  Accessory Technical Issue  \n",
       "3                        Code Not Received                      Codes  \n",
       "4                        Code Not Received                      Codes  \n",
       "...                                    ...                        ...  \n",
       "32023                             MM Issue                    Finance  \n",
       "32024      Redeem Code, Code Entry Support                      Codes  \n",
       "32025  Ended Call- Hearing/Speaking Issues                      Other  \n",
       "32026                  Account Association                      Sales  \n",
       "32027                  Account Association                      Sales  \n",
       "\n",
       "[32028 rows x 13 columns]"
      ]
     },
     "execution_count": 53,
     "metadata": {},
     "output_type": "execute_result"
    }
   ],
   "source": [
    "# Make a Copy of the dataset\n",
    "df = data.copy()\n",
    "df"
   ]
  },
  {
   "cell_type": "markdown",
   "metadata": {},
   "source": [
    "### Having a look at the data"
   ]
  },
  {
   "cell_type": "code",
   "execution_count": 54,
   "metadata": {},
   "outputs": [
    {
     "data": {
      "text/plain": [
       "Index(['call_id', 'destination_person_id', 'source_person_id', 'account_age',\n",
       "       'account_state', 'occupation', 'language', 'call_direction',\n",
       "       'call_duration', 'call_outcome', 'call_end_date', 'call_topics',\n",
       "       'call_topic_group'],\n",
       "      dtype='object')"
      ]
     },
     "execution_count": 54,
     "metadata": {},
     "output_type": "execute_result"
    }
   ],
   "source": [
    "# View columns/titles in the data set\n",
    "df.columns"
   ]
  },
  {
   "cell_type": "code",
   "execution_count": 55,
   "metadata": {},
   "outputs": [
    {
     "name": "stdout",
     "output_type": "stream",
     "text": [
      "<class 'pandas.core.frame.DataFrame'>\n",
      "RangeIndex: 32028 entries, 0 to 32027\n",
      "Data columns (total 13 columns):\n",
      " #   Column                 Non-Null Count  Dtype  \n",
      "---  ------                 --------------  -----  \n",
      " 0   call_id                32028 non-null  int64  \n",
      " 1   destination_person_id  32028 non-null  int64  \n",
      " 2   source_person_id       32028 non-null  int64  \n",
      " 3   account_age            32028 non-null  int64  \n",
      " 4   account_state          32028 non-null  object \n",
      " 5   occupation             31933 non-null  object \n",
      " 6   language               32027 non-null  object \n",
      " 7   call_direction         32028 non-null  object \n",
      " 8   call_duration          32028 non-null  float64\n",
      " 9   call_outcome           32028 non-null  object \n",
      " 10  call_end_date          32028 non-null  object \n",
      " 11  call_topics            32028 non-null  object \n",
      " 12  call_topic_group       32028 non-null  object \n",
      "dtypes: float64(1), int64(4), object(8)\n",
      "memory usage: 3.2+ MB\n"
     ]
    }
   ],
   "source": [
    "# Count the number of entries per column and the data type of each\n",
    "df.info()"
   ]
  },
  {
   "cell_type": "markdown",
   "metadata": {},
   "source": [
    "From the above output, we can see that the dataset has floats, intergers and string dtypes, with some missing values and a total of 13 columns"
   ]
  },
  {
   "cell_type": "markdown",
   "metadata": {},
   "source": [
    "## Exploratory Data Analysis"
   ]
  },
  {
   "cell_type": "code",
   "execution_count": 56,
   "metadata": {},
   "outputs": [
    {
     "data": {
      "text/html": [
       "<div>\n",
       "<style scoped>\n",
       "    .dataframe tbody tr th:only-of-type {\n",
       "        vertical-align: middle;\n",
       "    }\n",
       "\n",
       "    .dataframe tbody tr th {\n",
       "        vertical-align: top;\n",
       "    }\n",
       "\n",
       "    .dataframe thead th {\n",
       "        text-align: right;\n",
       "    }\n",
       "</style>\n",
       "<table border=\"1\" class=\"dataframe\">\n",
       "  <thead>\n",
       "    <tr style=\"text-align: right;\">\n",
       "      <th></th>\n",
       "      <th>call_id</th>\n",
       "      <th>destination_person_id</th>\n",
       "      <th>source_person_id</th>\n",
       "      <th>account_age</th>\n",
       "      <th>account_state</th>\n",
       "      <th>occupation</th>\n",
       "      <th>language</th>\n",
       "      <th>call_direction</th>\n",
       "      <th>call_duration</th>\n",
       "      <th>call_outcome</th>\n",
       "      <th>call_end_date</th>\n",
       "      <th>call_topics</th>\n",
       "      <th>call_topic_group</th>\n",
       "    </tr>\n",
       "  </thead>\n",
       "  <tbody>\n",
       "    <tr>\n",
       "      <th>0</th>\n",
       "      <td>2807990</td>\n",
       "      <td>86394</td>\n",
       "      <td>269898</td>\n",
       "      <td>301</td>\n",
       "      <td>In Repayment</td>\n",
       "      <td>Farmer</td>\n",
       "      <td>Luganda</td>\n",
       "      <td>Incoming</td>\n",
       "      <td>0.78</td>\n",
       "      <td>Call Resolved</td>\n",
       "      <td>10/21/17 4:01</td>\n",
       "      <td>Call Dropped</td>\n",
       "      <td>Other</td>\n",
       "    </tr>\n",
       "    <tr>\n",
       "      <th>1</th>\n",
       "      <td>2807991</td>\n",
       "      <td>86394</td>\n",
       "      <td>320367</td>\n",
       "      <td>122</td>\n",
       "      <td>In Repayment</td>\n",
       "      <td>Other</td>\n",
       "      <td>Luganda</td>\n",
       "      <td>Incoming</td>\n",
       "      <td>1.93</td>\n",
       "      <td>Call Resolved</td>\n",
       "      <td>10/21/17 4:04</td>\n",
       "      <td>Code Not Received</td>\n",
       "      <td>Codes</td>\n",
       "    </tr>\n",
       "    <tr>\n",
       "      <th>2</th>\n",
       "      <td>2807992</td>\n",
       "      <td>212967</td>\n",
       "      <td>129042</td>\n",
       "      <td>695</td>\n",
       "      <td>In Repayment</td>\n",
       "      <td>Mechanic / Technician</td>\n",
       "      <td>Luganda</td>\n",
       "      <td>Incoming</td>\n",
       "      <td>4.90</td>\n",
       "      <td>Call Resolved</td>\n",
       "      <td>10/21/17 4:05</td>\n",
       "      <td>RP Remote Technical</td>\n",
       "      <td>Accessory Technical Issue</td>\n",
       "    </tr>\n",
       "    <tr>\n",
       "      <th>3</th>\n",
       "      <td>2807993</td>\n",
       "      <td>114159</td>\n",
       "      <td>372282</td>\n",
       "      <td>22</td>\n",
       "      <td>In Repayment</td>\n",
       "      <td>Farmer</td>\n",
       "      <td>Lango</td>\n",
       "      <td>Incoming</td>\n",
       "      <td>3.77</td>\n",
       "      <td>Call Resolved</td>\n",
       "      <td>10/21/17 4:06</td>\n",
       "      <td>Code Not Received</td>\n",
       "      <td>Codes</td>\n",
       "    </tr>\n",
       "    <tr>\n",
       "      <th>4</th>\n",
       "      <td>2807994</td>\n",
       "      <td>86394</td>\n",
       "      <td>366749</td>\n",
       "      <td>44</td>\n",
       "      <td>In Repayment</td>\n",
       "      <td>Electrician</td>\n",
       "      <td>Luganda</td>\n",
       "      <td>Incoming</td>\n",
       "      <td>2.62</td>\n",
       "      <td>Call Resolved</td>\n",
       "      <td>10/21/17 4:07</td>\n",
       "      <td>Code Not Received</td>\n",
       "      <td>Codes</td>\n",
       "    </tr>\n",
       "  </tbody>\n",
       "</table>\n",
       "</div>"
      ],
      "text/plain": [
       "   call_id  destination_person_id  source_person_id  account_age  \\\n",
       "0  2807990                  86394            269898          301   \n",
       "1  2807991                  86394            320367          122   \n",
       "2  2807992                 212967            129042          695   \n",
       "3  2807993                 114159            372282           22   \n",
       "4  2807994                  86394            366749           44   \n",
       "\n",
       "  account_state             occupation language call_direction  call_duration  \\\n",
       "0  In Repayment                 Farmer  Luganda       Incoming           0.78   \n",
       "1  In Repayment                  Other  Luganda       Incoming           1.93   \n",
       "2  In Repayment  Mechanic / Technician  Luganda       Incoming           4.90   \n",
       "3  In Repayment                 Farmer    Lango       Incoming           3.77   \n",
       "4  In Repayment            Electrician  Luganda       Incoming           2.62   \n",
       "\n",
       "    call_outcome  call_end_date          call_topics  \\\n",
       "0  Call Resolved  10/21/17 4:01         Call Dropped   \n",
       "1  Call Resolved  10/21/17 4:04    Code Not Received   \n",
       "2  Call Resolved  10/21/17 4:05  RP Remote Technical   \n",
       "3  Call Resolved  10/21/17 4:06    Code Not Received   \n",
       "4  Call Resolved  10/21/17 4:07    Code Not Received   \n",
       "\n",
       "            call_topic_group  \n",
       "0                      Other  \n",
       "1                      Codes  \n",
       "2  Accessory Technical Issue  \n",
       "3                      Codes  \n",
       "4                      Codes  "
      ]
     },
     "execution_count": 56,
     "metadata": {},
     "output_type": "execute_result"
    }
   ],
   "source": [
    "# load the first 5 observations of the dataset\n",
    "df.head()"
   ]
  },
  {
   "cell_type": "code",
   "execution_count": 57,
   "metadata": {},
   "outputs": [
    {
     "data": {
      "text/html": [
       "<div>\n",
       "<style scoped>\n",
       "    .dataframe tbody tr th:only-of-type {\n",
       "        vertical-align: middle;\n",
       "    }\n",
       "\n",
       "    .dataframe tbody tr th {\n",
       "        vertical-align: top;\n",
       "    }\n",
       "\n",
       "    .dataframe thead th {\n",
       "        text-align: right;\n",
       "    }\n",
       "</style>\n",
       "<table border=\"1\" class=\"dataframe\">\n",
       "  <thead>\n",
       "    <tr style=\"text-align: right;\">\n",
       "      <th></th>\n",
       "      <th>call_id</th>\n",
       "      <th>destination_person_id</th>\n",
       "      <th>source_person_id</th>\n",
       "      <th>account_age</th>\n",
       "      <th>account_state</th>\n",
       "      <th>occupation</th>\n",
       "      <th>language</th>\n",
       "      <th>call_direction</th>\n",
       "      <th>call_duration</th>\n",
       "      <th>call_outcome</th>\n",
       "      <th>call_end_date</th>\n",
       "      <th>call_topics</th>\n",
       "      <th>call_topic_group</th>\n",
       "    </tr>\n",
       "  </thead>\n",
       "  <tbody>\n",
       "    <tr>\n",
       "      <th>32023</th>\n",
       "      <td>2855830</td>\n",
       "      <td>338414</td>\n",
       "      <td>361079</td>\n",
       "      <td>68</td>\n",
       "      <td>In Repayment</td>\n",
       "      <td>Small Business Owner</td>\n",
       "      <td>Lunyankore</td>\n",
       "      <td>Incoming</td>\n",
       "      <td>6.55</td>\n",
       "      <td>Call Resolved</td>\n",
       "      <td>11-03-17 15:08</td>\n",
       "      <td>MM Issue</td>\n",
       "      <td>Finance</td>\n",
       "    </tr>\n",
       "    <tr>\n",
       "      <th>32024</th>\n",
       "      <td>2855832</td>\n",
       "      <td>157397</td>\n",
       "      <td>302921</td>\n",
       "      <td>183</td>\n",
       "      <td>In Repayment</td>\n",
       "      <td>Farmer</td>\n",
       "      <td>Ma'di</td>\n",
       "      <td>Incoming</td>\n",
       "      <td>12.90</td>\n",
       "      <td>Call Resolved</td>\n",
       "      <td>11-03-17 15:09</td>\n",
       "      <td>Redeem Code, Code Entry Support</td>\n",
       "      <td>Codes</td>\n",
       "    </tr>\n",
       "    <tr>\n",
       "      <th>32025</th>\n",
       "      <td>2855835</td>\n",
       "      <td>80646</td>\n",
       "      <td>229800</td>\n",
       "      <td>386</td>\n",
       "      <td>In Repayment</td>\n",
       "      <td>Farmer</td>\n",
       "      <td>Luganda</td>\n",
       "      <td>Incoming</td>\n",
       "      <td>1.25</td>\n",
       "      <td>Call Resolved</td>\n",
       "      <td>11-03-17 15:09</td>\n",
       "      <td>Ended Call- Hearing/Speaking Issues</td>\n",
       "      <td>Other</td>\n",
       "    </tr>\n",
       "    <tr>\n",
       "      <th>32026</th>\n",
       "      <td>2855836</td>\n",
       "      <td>338372</td>\n",
       "      <td>8029</td>\n",
       "      <td>1146</td>\n",
       "      <td>Cancelled</td>\n",
       "      <td>Boda Boda</td>\n",
       "      <td>English</td>\n",
       "      <td>Incoming</td>\n",
       "      <td>2.98</td>\n",
       "      <td>Call Resolved</td>\n",
       "      <td>11-03-17 15:10</td>\n",
       "      <td>Account Association</td>\n",
       "      <td>Sales</td>\n",
       "    </tr>\n",
       "    <tr>\n",
       "      <th>32027</th>\n",
       "      <td>2855837</td>\n",
       "      <td>124255</td>\n",
       "      <td>387315</td>\n",
       "      <td>0</td>\n",
       "      <td>In Repayment</td>\n",
       "      <td>Small Business Owner</td>\n",
       "      <td>Luganda</td>\n",
       "      <td>Incoming</td>\n",
       "      <td>3.08</td>\n",
       "      <td>Call Resolved</td>\n",
       "      <td>11-03-17 15:11</td>\n",
       "      <td>Account Association</td>\n",
       "      <td>Sales</td>\n",
       "    </tr>\n",
       "  </tbody>\n",
       "</table>\n",
       "</div>"
      ],
      "text/plain": [
       "       call_id  destination_person_id  source_person_id  account_age  \\\n",
       "32023  2855830                 338414            361079           68   \n",
       "32024  2855832                 157397            302921          183   \n",
       "32025  2855835                  80646            229800          386   \n",
       "32026  2855836                 338372              8029         1146   \n",
       "32027  2855837                 124255            387315            0   \n",
       "\n",
       "      account_state            occupation    language call_direction  \\\n",
       "32023  In Repayment  Small Business Owner  Lunyankore       Incoming   \n",
       "32024  In Repayment                Farmer       Ma'di       Incoming   \n",
       "32025  In Repayment                Farmer     Luganda       Incoming   \n",
       "32026     Cancelled             Boda Boda     English       Incoming   \n",
       "32027  In Repayment  Small Business Owner     Luganda       Incoming   \n",
       "\n",
       "       call_duration   call_outcome   call_end_date  \\\n",
       "32023           6.55  Call Resolved  11-03-17 15:08   \n",
       "32024          12.90  Call Resolved  11-03-17 15:09   \n",
       "32025           1.25  Call Resolved  11-03-17 15:09   \n",
       "32026           2.98  Call Resolved  11-03-17 15:10   \n",
       "32027           3.08  Call Resolved  11-03-17 15:11   \n",
       "\n",
       "                               call_topics call_topic_group  \n",
       "32023                             MM Issue          Finance  \n",
       "32024      Redeem Code, Code Entry Support            Codes  \n",
       "32025  Ended Call- Hearing/Speaking Issues            Other  \n",
       "32026                  Account Association            Sales  \n",
       "32027                  Account Association            Sales  "
      ]
     },
     "execution_count": 57,
     "metadata": {},
     "output_type": "execute_result"
    }
   ],
   "source": [
    "# load the last 5 observations of the dataset\n",
    "data.tail()"
   ]
  },
  {
   "cell_type": "markdown",
   "metadata": {},
   "source": [
    "The above outputs show the first 5 and last 5 observations of the dataset. This is majorly because its a large dataset\n",
    "and we cant thus load the whole of it so we load just a few observations from it just to get a glimpse of it."
   ]
  },
  {
   "cell_type": "code",
   "execution_count": 58,
   "metadata": {},
   "outputs": [
    {
     "data": {
      "text/plain": [
       "0"
      ]
     },
     "execution_count": 58,
     "metadata": {},
     "output_type": "execute_result"
    }
   ],
   "source": [
    "#Check for duplicates\n",
    "df.duplicated().sum()"
   ]
  },
  {
   "cell_type": "markdown",
   "metadata": {},
   "source": [
    "Therefore, the data has no duplicated entries/ fields"
   ]
  },
  {
   "cell_type": "code",
   "execution_count": 59,
   "metadata": {},
   "outputs": [
    {
     "data": {
      "text/html": [
       "<div>\n",
       "<style scoped>\n",
       "    .dataframe tbody tr th:only-of-type {\n",
       "        vertical-align: middle;\n",
       "    }\n",
       "\n",
       "    .dataframe tbody tr th {\n",
       "        vertical-align: top;\n",
       "    }\n",
       "\n",
       "    .dataframe thead th {\n",
       "        text-align: right;\n",
       "    }\n",
       "</style>\n",
       "<table border=\"1\" class=\"dataframe\">\n",
       "  <thead>\n",
       "    <tr style=\"text-align: right;\">\n",
       "      <th></th>\n",
       "      <th>call_id</th>\n",
       "      <th>destination_person_id</th>\n",
       "      <th>source_person_id</th>\n",
       "      <th>account_age</th>\n",
       "      <th>account_state</th>\n",
       "      <th>occupation</th>\n",
       "      <th>language</th>\n",
       "      <th>call_direction</th>\n",
       "      <th>call_duration</th>\n",
       "      <th>call_outcome</th>\n",
       "      <th>call_end_date</th>\n",
       "      <th>call_topics</th>\n",
       "      <th>call_topic_group</th>\n",
       "    </tr>\n",
       "  </thead>\n",
       "  <tbody>\n",
       "    <tr>\n",
       "      <th>count</th>\n",
       "      <td>3.202800e+04</td>\n",
       "      <td>32028.000000</td>\n",
       "      <td>32028.000000</td>\n",
       "      <td>32028.000000</td>\n",
       "      <td>32028</td>\n",
       "      <td>31933</td>\n",
       "      <td>32027</td>\n",
       "      <td>32028</td>\n",
       "      <td>3.202800e+04</td>\n",
       "      <td>32028</td>\n",
       "      <td>32028</td>\n",
       "      <td>32028</td>\n",
       "      <td>32028</td>\n",
       "    </tr>\n",
       "    <tr>\n",
       "      <th>unique</th>\n",
       "      <td>NaN</td>\n",
       "      <td>NaN</td>\n",
       "      <td>NaN</td>\n",
       "      <td>NaN</td>\n",
       "      <td>4</td>\n",
       "      <td>36</td>\n",
       "      <td>29</td>\n",
       "      <td>2</td>\n",
       "      <td>NaN</td>\n",
       "      <td>12</td>\n",
       "      <td>10951</td>\n",
       "      <td>1210</td>\n",
       "      <td>12</td>\n",
       "    </tr>\n",
       "    <tr>\n",
       "      <th>top</th>\n",
       "      <td>NaN</td>\n",
       "      <td>NaN</td>\n",
       "      <td>NaN</td>\n",
       "      <td>NaN</td>\n",
       "      <td>In Repayment</td>\n",
       "      <td>Farmer</td>\n",
       "      <td>Luganda</td>\n",
       "      <td>Incoming</td>\n",
       "      <td>NaN</td>\n",
       "      <td>Call Resolved</td>\n",
       "      <td>10/21/17 12:52</td>\n",
       "      <td>Completions Call</td>\n",
       "      <td>Codes</td>\n",
       "    </tr>\n",
       "    <tr>\n",
       "      <th>freq</th>\n",
       "      <td>NaN</td>\n",
       "      <td>NaN</td>\n",
       "      <td>NaN</td>\n",
       "      <td>NaN</td>\n",
       "      <td>28349</td>\n",
       "      <td>11484</td>\n",
       "      <td>9517</td>\n",
       "      <td>24286</td>\n",
       "      <td>NaN</td>\n",
       "      <td>27214</td>\n",
       "      <td>19</td>\n",
       "      <td>4226</td>\n",
       "      <td>7244</td>\n",
       "    </tr>\n",
       "    <tr>\n",
       "      <th>mean</th>\n",
       "      <td>2.831672e+06</td>\n",
       "      <td>176398.621956</td>\n",
       "      <td>238985.845354</td>\n",
       "      <td>342.367085</td>\n",
       "      <td>NaN</td>\n",
       "      <td>NaN</td>\n",
       "      <td>NaN</td>\n",
       "      <td>NaN</td>\n",
       "      <td>-1.565586e+03</td>\n",
       "      <td>NaN</td>\n",
       "      <td>NaN</td>\n",
       "      <td>NaN</td>\n",
       "      <td>NaN</td>\n",
       "    </tr>\n",
       "    <tr>\n",
       "      <th>std</th>\n",
       "      <td>1.374674e+04</td>\n",
       "      <td>97753.450380</td>\n",
       "      <td>106046.655869</td>\n",
       "      <td>306.645479</td>\n",
       "      <td>NaN</td>\n",
       "      <td>NaN</td>\n",
       "      <td>NaN</td>\n",
       "      <td>NaN</td>\n",
       "      <td>1.987238e+05</td>\n",
       "      <td>NaN</td>\n",
       "      <td>NaN</td>\n",
       "      <td>NaN</td>\n",
       "      <td>NaN</td>\n",
       "    </tr>\n",
       "    <tr>\n",
       "      <th>min</th>\n",
       "      <td>2.807990e+06</td>\n",
       "      <td>73.000000</td>\n",
       "      <td>89.000000</td>\n",
       "      <td>-10.000000</td>\n",
       "      <td>NaN</td>\n",
       "      <td>NaN</td>\n",
       "      <td>NaN</td>\n",
       "      <td>NaN</td>\n",
       "      <td>-2.514926e+07</td>\n",
       "      <td>NaN</td>\n",
       "      <td>NaN</td>\n",
       "      <td>NaN</td>\n",
       "      <td>NaN</td>\n",
       "    </tr>\n",
       "    <tr>\n",
       "      <th>25%</th>\n",
       "      <td>2.819686e+06</td>\n",
       "      <td>108351.000000</td>\n",
       "      <td>155159.000000</td>\n",
       "      <td>64.000000</td>\n",
       "      <td>NaN</td>\n",
       "      <td>NaN</td>\n",
       "      <td>NaN</td>\n",
       "      <td>NaN</td>\n",
       "      <td>1.550000e+00</td>\n",
       "      <td>NaN</td>\n",
       "      <td>NaN</td>\n",
       "      <td>NaN</td>\n",
       "      <td>NaN</td>\n",
       "    </tr>\n",
       "    <tr>\n",
       "      <th>50%</th>\n",
       "      <td>2.831604e+06</td>\n",
       "      <td>134577.000000</td>\n",
       "      <td>239082.000000</td>\n",
       "      <td>298.000000</td>\n",
       "      <td>NaN</td>\n",
       "      <td>NaN</td>\n",
       "      <td>NaN</td>\n",
       "      <td>NaN</td>\n",
       "      <td>3.580000e+00</td>\n",
       "      <td>NaN</td>\n",
       "      <td>NaN</td>\n",
       "      <td>NaN</td>\n",
       "      <td>NaN</td>\n",
       "    </tr>\n",
       "    <tr>\n",
       "      <th>75%</th>\n",
       "      <td>2.843481e+06</td>\n",
       "      <td>239005.000000</td>\n",
       "      <td>338348.250000</td>\n",
       "      <td>573.000000</td>\n",
       "      <td>NaN</td>\n",
       "      <td>NaN</td>\n",
       "      <td>NaN</td>\n",
       "      <td>NaN</td>\n",
       "      <td>6.200000e+00</td>\n",
       "      <td>NaN</td>\n",
       "      <td>NaN</td>\n",
       "      <td>NaN</td>\n",
       "      <td>NaN</td>\n",
       "    </tr>\n",
       "    <tr>\n",
       "      <th>max</th>\n",
       "      <td>2.855837e+06</td>\n",
       "      <td>387319.000000</td>\n",
       "      <td>387407.000000</td>\n",
       "      <td>1430.000000</td>\n",
       "      <td>NaN</td>\n",
       "      <td>NaN</td>\n",
       "      <td>NaN</td>\n",
       "      <td>NaN</td>\n",
       "      <td>5.787000e+01</td>\n",
       "      <td>NaN</td>\n",
       "      <td>NaN</td>\n",
       "      <td>NaN</td>\n",
       "      <td>NaN</td>\n",
       "    </tr>\n",
       "  </tbody>\n",
       "</table>\n",
       "</div>"
      ],
      "text/plain": [
       "             call_id  destination_person_id  source_person_id   account_age  \\\n",
       "count   3.202800e+04           32028.000000      32028.000000  32028.000000   \n",
       "unique           NaN                    NaN               NaN           NaN   \n",
       "top              NaN                    NaN               NaN           NaN   \n",
       "freq             NaN                    NaN               NaN           NaN   \n",
       "mean    2.831672e+06          176398.621956     238985.845354    342.367085   \n",
       "std     1.374674e+04           97753.450380     106046.655869    306.645479   \n",
       "min     2.807990e+06              73.000000         89.000000    -10.000000   \n",
       "25%     2.819686e+06          108351.000000     155159.000000     64.000000   \n",
       "50%     2.831604e+06          134577.000000     239082.000000    298.000000   \n",
       "75%     2.843481e+06          239005.000000     338348.250000    573.000000   \n",
       "max     2.855837e+06          387319.000000     387407.000000   1430.000000   \n",
       "\n",
       "       account_state occupation language call_direction  call_duration  \\\n",
       "count          32028      31933    32027          32028   3.202800e+04   \n",
       "unique             4         36       29              2            NaN   \n",
       "top     In Repayment     Farmer  Luganda       Incoming            NaN   \n",
       "freq           28349      11484     9517          24286            NaN   \n",
       "mean             NaN        NaN      NaN            NaN  -1.565586e+03   \n",
       "std              NaN        NaN      NaN            NaN   1.987238e+05   \n",
       "min              NaN        NaN      NaN            NaN  -2.514926e+07   \n",
       "25%              NaN        NaN      NaN            NaN   1.550000e+00   \n",
       "50%              NaN        NaN      NaN            NaN   3.580000e+00   \n",
       "75%              NaN        NaN      NaN            NaN   6.200000e+00   \n",
       "max              NaN        NaN      NaN            NaN   5.787000e+01   \n",
       "\n",
       "         call_outcome   call_end_date       call_topics call_topic_group  \n",
       "count           32028           32028             32028            32028  \n",
       "unique             12           10951              1210               12  \n",
       "top     Call Resolved  10/21/17 12:52  Completions Call            Codes  \n",
       "freq            27214              19              4226             7244  \n",
       "mean              NaN             NaN               NaN              NaN  \n",
       "std               NaN             NaN               NaN              NaN  \n",
       "min               NaN             NaN               NaN              NaN  \n",
       "25%               NaN             NaN               NaN              NaN  \n",
       "50%               NaN             NaN               NaN              NaN  \n",
       "75%               NaN             NaN               NaN              NaN  \n",
       "max               NaN             NaN               NaN              NaN  "
      ]
     },
     "execution_count": 59,
     "metadata": {},
     "output_type": "execute_result"
    }
   ],
   "source": [
    "# Descriptive Statistics\n",
    "df.describe(include=\"all\")"
   ]
  },
  {
   "cell_type": "markdown",
   "metadata": {},
   "source": [
    "The above output gives us a picture of the general distribution of features in the dataset interms of their means, modes, medians, min and max values, those with missing values and all. This output hence guides the process of data preprocessing."
   ]
  },
  {
   "cell_type": "markdown",
   "metadata": {},
   "source": [
    "##### Creating a simple function to help with some descriptive stats of the data"
   ]
  },
  {
   "cell_type": "code",
   "execution_count": 60,
   "metadata": {},
   "outputs": [],
   "source": [
    "def stats(dataset):\n",
    "    print(dataset.describe())\n",
    "    print(dataset.shape)\n",
    "    print(dataset.info())"
   ]
  },
  {
   "cell_type": "code",
   "execution_count": 61,
   "metadata": {},
   "outputs": [
    {
     "name": "stdout",
     "output_type": "stream",
     "text": [
      "            call_id  destination_person_id  source_person_id   account_age  \\\n",
      "count  3.202800e+04           32028.000000      32028.000000  32028.000000   \n",
      "mean   2.831672e+06          176398.621956     238985.845354    342.367085   \n",
      "std    1.374674e+04           97753.450380     106046.655869    306.645479   \n",
      "min    2.807990e+06              73.000000         89.000000    -10.000000   \n",
      "25%    2.819686e+06          108351.000000     155159.000000     64.000000   \n",
      "50%    2.831604e+06          134577.000000     239082.000000    298.000000   \n",
      "75%    2.843481e+06          239005.000000     338348.250000    573.000000   \n",
      "max    2.855837e+06          387319.000000     387407.000000   1430.000000   \n",
      "\n",
      "       call_duration  \n",
      "count   3.202800e+04  \n",
      "mean   -1.565586e+03  \n",
      "std     1.987238e+05  \n",
      "min    -2.514926e+07  \n",
      "25%     1.550000e+00  \n",
      "50%     3.580000e+00  \n",
      "75%     6.200000e+00  \n",
      "max     5.787000e+01  \n",
      "(32028, 13)\n",
      "<class 'pandas.core.frame.DataFrame'>\n",
      "RangeIndex: 32028 entries, 0 to 32027\n",
      "Data columns (total 13 columns):\n",
      " #   Column                 Non-Null Count  Dtype  \n",
      "---  ------                 --------------  -----  \n",
      " 0   call_id                32028 non-null  int64  \n",
      " 1   destination_person_id  32028 non-null  int64  \n",
      " 2   source_person_id       32028 non-null  int64  \n",
      " 3   account_age            32028 non-null  int64  \n",
      " 4   account_state          32028 non-null  object \n",
      " 5   occupation             31933 non-null  object \n",
      " 6   language               32027 non-null  object \n",
      " 7   call_direction         32028 non-null  object \n",
      " 8   call_duration          32028 non-null  float64\n",
      " 9   call_outcome           32028 non-null  object \n",
      " 10  call_end_date          32028 non-null  object \n",
      " 11  call_topics            32028 non-null  object \n",
      " 12  call_topic_group       32028 non-null  object \n",
      "dtypes: float64(1), int64(4), object(8)\n",
      "memory usage: 3.2+ MB\n",
      "None\n"
     ]
    }
   ],
   "source": [
    "stats(df)"
   ]
  },
  {
   "cell_type": "code",
   "execution_count": 62,
   "metadata": {},
   "outputs": [
    {
     "name": "stdout",
     "output_type": "stream",
     "text": [
      "The data set has 32028 rows and 13 columns.\n"
     ]
    }
   ],
   "source": [
    "print(\"The data set has\", df.shape[0],\"rows and\",df.shape[1],\"columns.\")"
   ]
  },
  {
   "cell_type": "markdown",
   "metadata": {},
   "source": [
    "## Feature Engineering"
   ]
  },
  {
   "cell_type": "markdown",
   "metadata": {},
   "source": [
    "Dealing with the identified Missing values"
   ]
  },
  {
   "cell_type": "code",
   "execution_count": 63,
   "metadata": {},
   "outputs": [],
   "source": [
    "# Create table for missing data analysis\n",
    "def draw_missing_data_table(dataset):\n",
    "    total = dataset.isnull().sum().sort_values(ascending=False)\n",
    "    percent = (dataset.isnull().sum()/dataset.isnull().count()).sort_values(ascending=False)\n",
    "    missing_data = pd.concat([total, percent], axis=1, keys=['Total Nulls in dataset', 'Percent of Nulls'])\n",
    "    return missing_data"
   ]
  },
  {
   "cell_type": "code",
   "execution_count": 64,
   "metadata": {},
   "outputs": [
    {
     "data": {
      "text/html": [
       "<div>\n",
       "<style scoped>\n",
       "    .dataframe tbody tr th:only-of-type {\n",
       "        vertical-align: middle;\n",
       "    }\n",
       "\n",
       "    .dataframe tbody tr th {\n",
       "        vertical-align: top;\n",
       "    }\n",
       "\n",
       "    .dataframe thead th {\n",
       "        text-align: right;\n",
       "    }\n",
       "</style>\n",
       "<table border=\"1\" class=\"dataframe\">\n",
       "  <thead>\n",
       "    <tr style=\"text-align: right;\">\n",
       "      <th></th>\n",
       "      <th>Total Nulls in dataset</th>\n",
       "      <th>Percent of Nulls</th>\n",
       "    </tr>\n",
       "  </thead>\n",
       "  <tbody>\n",
       "    <tr>\n",
       "      <th>occupation</th>\n",
       "      <td>95</td>\n",
       "      <td>0.002966</td>\n",
       "    </tr>\n",
       "    <tr>\n",
       "      <th>language</th>\n",
       "      <td>1</td>\n",
       "      <td>0.000031</td>\n",
       "    </tr>\n",
       "    <tr>\n",
       "      <th>call_id</th>\n",
       "      <td>0</td>\n",
       "      <td>0.000000</td>\n",
       "    </tr>\n",
       "    <tr>\n",
       "      <th>destination_person_id</th>\n",
       "      <td>0</td>\n",
       "      <td>0.000000</td>\n",
       "    </tr>\n",
       "    <tr>\n",
       "      <th>source_person_id</th>\n",
       "      <td>0</td>\n",
       "      <td>0.000000</td>\n",
       "    </tr>\n",
       "    <tr>\n",
       "      <th>account_age</th>\n",
       "      <td>0</td>\n",
       "      <td>0.000000</td>\n",
       "    </tr>\n",
       "    <tr>\n",
       "      <th>account_state</th>\n",
       "      <td>0</td>\n",
       "      <td>0.000000</td>\n",
       "    </tr>\n",
       "    <tr>\n",
       "      <th>call_direction</th>\n",
       "      <td>0</td>\n",
       "      <td>0.000000</td>\n",
       "    </tr>\n",
       "    <tr>\n",
       "      <th>call_duration</th>\n",
       "      <td>0</td>\n",
       "      <td>0.000000</td>\n",
       "    </tr>\n",
       "    <tr>\n",
       "      <th>call_outcome</th>\n",
       "      <td>0</td>\n",
       "      <td>0.000000</td>\n",
       "    </tr>\n",
       "    <tr>\n",
       "      <th>call_end_date</th>\n",
       "      <td>0</td>\n",
       "      <td>0.000000</td>\n",
       "    </tr>\n",
       "    <tr>\n",
       "      <th>call_topics</th>\n",
       "      <td>0</td>\n",
       "      <td>0.000000</td>\n",
       "    </tr>\n",
       "    <tr>\n",
       "      <th>call_topic_group</th>\n",
       "      <td>0</td>\n",
       "      <td>0.000000</td>\n",
       "    </tr>\n",
       "  </tbody>\n",
       "</table>\n",
       "</div>"
      ],
      "text/plain": [
       "                       Total Nulls in dataset  Percent of Nulls\n",
       "occupation                                 95          0.002966\n",
       "language                                    1          0.000031\n",
       "call_id                                     0          0.000000\n",
       "destination_person_id                       0          0.000000\n",
       "source_person_id                            0          0.000000\n",
       "account_age                                 0          0.000000\n",
       "account_state                               0          0.000000\n",
       "call_direction                              0          0.000000\n",
       "call_duration                               0          0.000000\n",
       "call_outcome                                0          0.000000\n",
       "call_end_date                               0          0.000000\n",
       "call_topics                                 0          0.000000\n",
       "call_topic_group                            0          0.000000"
      ]
     },
     "execution_count": 64,
     "metadata": {},
     "output_type": "execute_result"
    }
   ],
   "source": [
    "# Analyse missing data\n",
    "draw_missing_data_table(df)"
   ]
  },
  {
   "cell_type": "code",
   "execution_count": 65,
   "metadata": {},
   "outputs": [
    {
     "data": {
      "text/plain": [
       "call_id                  0\n",
       "destination_person_id    0\n",
       "source_person_id         0\n",
       "account_age              0\n",
       "account_state            0\n",
       "occupation               0\n",
       "language                 0\n",
       "call_direction           0\n",
       "call_duration            0\n",
       "call_outcome             0\n",
       "call_end_date            0\n",
       "call_topics              0\n",
       "call_topic_group         0\n",
       "dtype: int64"
      ]
     },
     "execution_count": 65,
     "metadata": {},
     "output_type": "execute_result"
    }
   ],
   "source": [
    "# Drop the missing values\n",
    "df = df.dropna()\n",
    "df.isnull().sum()"
   ]
  },
  {
   "cell_type": "markdown",
   "metadata": {},
   "source": [
    "From the above output, there are two columns with missing values ie occupation and language. And since the numbers of\n",
    "missing values or insignificant values, we can just drop them and continues with other preprocessing procedures."
   ]
  },
  {
   "cell_type": "markdown",
   "metadata": {},
   "source": [
    "#### Creation of a simple table to compare the incoming and outgoing calls for each topic group"
   ]
  },
  {
   "cell_type": "code",
   "execution_count": 66,
   "metadata": {},
   "outputs": [
    {
     "data": {
      "text/html": [
       "<div>\n",
       "<style scoped>\n",
       "    .dataframe tbody tr th:only-of-type {\n",
       "        vertical-align: middle;\n",
       "    }\n",
       "\n",
       "    .dataframe tbody tr th {\n",
       "        vertical-align: top;\n",
       "    }\n",
       "\n",
       "    .dataframe thead th {\n",
       "        text-align: right;\n",
       "    }\n",
       "</style>\n",
       "<table border=\"1\" class=\"dataframe\">\n",
       "  <thead>\n",
       "    <tr style=\"text-align: right;\">\n",
       "      <th>call_direction</th>\n",
       "      <th>Incoming</th>\n",
       "      <th>Outgoing</th>\n",
       "    </tr>\n",
       "    <tr>\n",
       "      <th>call_topic_group</th>\n",
       "      <th></th>\n",
       "      <th></th>\n",
       "    </tr>\n",
       "  </thead>\n",
       "  <tbody>\n",
       "    <tr>\n",
       "      <th>Accessory Non-Technical Issue</th>\n",
       "      <td>1152.71</td>\n",
       "      <td>19.63</td>\n",
       "    </tr>\n",
       "    <tr>\n",
       "      <th>Accessory Technical Issue</th>\n",
       "      <td>5001.99</td>\n",
       "      <td>150.11</td>\n",
       "    </tr>\n",
       "    <tr>\n",
       "      <th>Accounts</th>\n",
       "      <td>3496.14</td>\n",
       "      <td>54.62</td>\n",
       "    </tr>\n",
       "    <tr>\n",
       "      <th>Codes</th>\n",
       "      <td>25182331.76</td>\n",
       "      <td>544.45</td>\n",
       "    </tr>\n",
       "    <tr>\n",
       "      <th>Finance</th>\n",
       "      <td>21310.78</td>\n",
       "      <td>2242.58</td>\n",
       "    </tr>\n",
       "    <tr>\n",
       "      <th>General</th>\n",
       "      <td>6694.81</td>\n",
       "      <td>709.23</td>\n",
       "    </tr>\n",
       "    <tr>\n",
       "      <th>Other</th>\n",
       "      <td>25157870.81</td>\n",
       "      <td>1166.09</td>\n",
       "    </tr>\n",
       "    <tr>\n",
       "      <th>Portfolio Health</th>\n",
       "      <td>781.47</td>\n",
       "      <td>233.76</td>\n",
       "    </tr>\n",
       "    <tr>\n",
       "      <th>Sales</th>\n",
       "      <td>24801.47</td>\n",
       "      <td>5302.85</td>\n",
       "    </tr>\n",
       "    <tr>\n",
       "      <th>Survey</th>\n",
       "      <td>0.00</td>\n",
       "      <td>20473.80</td>\n",
       "    </tr>\n",
       "    <tr>\n",
       "      <th>Technical/ Battery Performance</th>\n",
       "      <td>15045.25</td>\n",
       "      <td>273.00</td>\n",
       "    </tr>\n",
       "    <tr>\n",
       "      <th>Unsellable Kit (Association Errors)</th>\n",
       "      <td>74.20</td>\n",
       "      <td>9.08</td>\n",
       "    </tr>\n",
       "  </tbody>\n",
       "</table>\n",
       "</div>"
      ],
      "text/plain": [
       "call_direction                          Incoming  Outgoing\n",
       "call_topic_group                                          \n",
       "Accessory Non-Technical Issue            1152.71     19.63\n",
       "Accessory Technical Issue                5001.99    150.11\n",
       "Accounts                                 3496.14     54.62\n",
       "Codes                                25182331.76    544.45\n",
       "Finance                                 21310.78   2242.58\n",
       "General                                  6694.81    709.23\n",
       "Other                                25157870.81   1166.09\n",
       "Portfolio Health                          781.47    233.76\n",
       "Sales                                   24801.47   5302.85\n",
       "Survey                                      0.00  20473.80\n",
       "Technical/ Battery Performance          15045.25    273.00\n",
       "Unsellable Kit (Association Errors)        74.20      9.08"
      ]
     },
     "execution_count": 66,
     "metadata": {},
     "output_type": "execute_result"
    }
   ],
   "source": [
    "# We can make a pivot table to sum up the number of incoming calls' and outgoing calls' durations in seconds for each call topic group \n",
    "\n",
    "compare_table = pd.pivot_table(data=df, index='call_topic_group', columns='call_direction', values='call_duration', aggfunc=lambda x: np.sum(abs(x)), fill_value=0)\n",
    "compare_table"
   ]
  },
  {
   "cell_type": "code",
   "execution_count": 67,
   "metadata": {},
   "outputs": [
    {
     "name": "stdout",
     "output_type": "stream",
     "text": [
      "Incoming calls are a total of 836235.9698333333 minutes.\n",
      "whereas\n",
      "Outgoing calls are a total of 519.6533333333334 minutes.\n"
     ]
    }
   ],
   "source": [
    "# We sum the call_duraction for each call_direction segment and then divide it with 60 to return number of minutes.\n",
    "print(\"Incoming calls are a total of\", abs(df.loc[df['call_direction'] == 'Incoming'].call_duration.sum())/60, \"minutes.\")\n",
    "print(\"whereas\")\n",
    "print(\"Outgoing calls are a total of\", abs(df.loc[df['call_direction'] == 'Outgoing'].call_duration.sum())/60, \"minutes.\")"
   ]
  },
  {
   "cell_type": "markdown",
   "metadata": {},
   "source": [
    "# PROBLEM: THE CALL TYPE [call_direction] MOST LIKELY TO EXPECT IN FUTURE PREDICTABILITY FROM THE DATA "
   ]
  },
  {
   "cell_type": "markdown",
   "metadata": {},
   "source": [
    "> Let us first look at the target varibale [call_direction] column and see what it constitutes. This observation is meant to help discover a few things about the variable namely: its distribution, unique values and so on"
   ]
  },
  {
   "cell_type": "code",
   "execution_count": 68,
   "metadata": {},
   "outputs": [
    {
     "data": {
      "text/plain": [
       "<seaborn.axisgrid.FacetGrid at 0x2a8f8b9aaf0>"
      ]
     },
     "execution_count": 68,
     "metadata": {},
     "output_type": "execute_result"
    },
    {
     "data": {
      "image/png": "[encoded data removed]",
      "text/plain": [
       "<Figure size 360x360 with 1 Axes>"
      ]
     },
     "metadata": {
      "needs_background": "light"
     },
     "output_type": "display_data"
    }
   ],
   "source": [
    "# let us plot a distribution plot to see how the target variable looks like\n",
    "sns.displot(df, x = \"call_direction\", shrink = .5)"
   ]
  },
  {
   "cell_type": "code",
   "execution_count": 69,
   "metadata": {},
   "outputs": [
    {
     "data": {
      "text/plain": [
       "Incoming    24231\n",
       "Outgoing     7702\n",
       "Name: call_direction, dtype: int64"
      ]
     },
     "execution_count": 69,
     "metadata": {},
     "output_type": "execute_result"
    }
   ],
   "source": [
    "df.call_direction.value_counts()"
   ]
  },
  {
   "cell_type": "markdown",
   "metadata": {},
   "source": [
    "> We can see from the plot above that incoming [24231] is more than outgoing [7702]. This gives us an overview of the distribution of the two values we have at hand. It alsio shows there's to be more learning in the incoming calls as opposed to the outgoing"
   ]
  },
  {
   "cell_type": "code",
   "execution_count": 70,
   "metadata": {},
   "outputs": [
    {
     "data": {
      "text/plain": [
       "Index(['call_id', 'destination_person_id', 'source_person_id', 'account_age',\n",
       "       'account_state', 'occupation', 'language', 'call_direction',\n",
       "       'call_duration', 'call_outcome', 'call_end_date', 'call_topics',\n",
       "       'call_topic_group'],\n",
       "      dtype='object')"
      ]
     },
     "execution_count": 70,
     "metadata": {},
     "output_type": "execute_result"
    }
   ],
   "source": [
    "df.columns\n"
   ]
  },
  {
   "cell_type": "code",
   "execution_count": 71,
   "metadata": {},
   "outputs": [
    {
     "data": {
      "text/plain": [
       "Index(['account_age', 'account_state', 'call_direction', 'call_duration',\n",
       "       'call_outcome', 'call_topic_group'],\n",
       "      dtype='object')"
      ]
     },
     "execution_count": 71,
     "metadata": {},
     "output_type": "execute_result"
    }
   ],
   "source": [
    "# dropping the columns that are insignificant to my analysis\n",
    "df = df.drop(columns=[ 'call_id', 'destination_person_id', 'source_person_id', 'occupation', \n",
    "                      'language', 'call_end_date', 'call_topics'])\n",
    "df.columns"
   ]
  },
  {
   "cell_type": "markdown",
   "metadata": {},
   "source": [
    "Checking for outliers"
   ]
  },
  {
   "cell_type": "code",
   "execution_count": 72,
   "metadata": {},
   "outputs": [
    {
     "name": "stderr",
     "output_type": "stream",
     "text": [
      "C:\\Users\\hi\\anaconda3\\lib\\site-packages\\seaborn\\_decorators.py:36: FutureWarning: Pass the following variable as a keyword arg: x. From version 0.12, the only valid positional argument will be `data`, and passing other arguments without an explicit keyword will result in an error or misinterpretation.\n",
      "  warnings.warn(\n"
     ]
    },
    {
     "data": {
      "text/plain": [
       "<AxesSubplot:xlabel='account_age'>"
      ]
     },
     "execution_count": 72,
     "metadata": {},
     "output_type": "execute_result"
    },
    {
     "data": {
      "image/png": "[encoded data removed]",
      "text/plain": [
       "<Figure size 936x504 with 1 Axes>"
      ]
     },
     "metadata": {
      "needs_background": "light"
     },
     "output_type": "display_data"
    }
   ],
   "source": [
    "#Detect and remove outliers: account_age\n",
    "\n",
    "plt.figure(figsize=(13,7))\n",
    "sns.boxplot(df.account_age)"
   ]
  },
  {
   "cell_type": "code",
   "execution_count": 73,
   "metadata": {},
   "outputs": [
    {
     "name": "stderr",
     "output_type": "stream",
     "text": [
      "C:\\Users\\hi\\anaconda3\\lib\\site-packages\\seaborn\\_decorators.py:36: FutureWarning: Pass the following variable as a keyword arg: x. From version 0.12, the only valid positional argument will be `data`, and passing other arguments without an explicit keyword will result in an error or misinterpretation.\n",
      "  warnings.warn(\n"
     ]
    },
    {
     "data": {
      "text/plain": [
       "<AxesSubplot:xlabel='account_age'>"
      ]
     },
     "execution_count": 73,
     "metadata": {},
     "output_type": "execute_result"
    },
    {
     "data": {
      "image/png": "[encoded data removed]",
      "text/plain": [
       "<Figure size 432x288 with 1 Axes>"
      ]
     },
     "metadata": {
      "needs_background": "light"
     },
     "output_type": "display_data"
    }
   ],
   "source": [
    "# removing the outliers in account_age using the IQR\n",
    "\n",
    "def remove_outlier(col):\n",
    "    q25 = col.quantile(0.25)\n",
    "    q75 = col.quantile(0.75)\n",
    "    iqr = q75 - q25\n",
    "    cutoff = iqr*0.5\n",
    "    upper = q75 + cutoff\n",
    "    return upper\n",
    "\n",
    "upper = remove_outlier(df.account_age)\n",
    "\n",
    "df = df.loc[(df.account_age < upper)]\n",
    "\n",
    "sns.boxplot(df.account_age)"
   ]
  },
  {
   "cell_type": "code",
   "execution_count": 24,
   "metadata": {},
   "outputs": [
    {
     "data": {
      "text/plain": [
       "<seaborn.axisgrid.FacetGrid at 0x1964544f850>"
      ]
     },
     "execution_count": 24,
     "metadata": {},
     "output_type": "execute_result"
    },
    {
     "data": {
      "image/png": "[encoded data removed]",
      "text/plain": [
       "<Figure size 1645.12x360 with 4 Axes>"
      ]
     },
     "metadata": {
      "needs_background": "light"
     },
     "output_type": "display_data"
    }
   ],
   "source": [
    "# We can as well break down the distribution and narrow it down to account state and call topic group in regards to call direction. \n",
    "#We can use this information for our reporting\n",
    "\n",
    "sns.displot(data=df, x=\"call_direction\", hue=\"call_topic_group\", multiple=\"stack\", col=\"account_state\")"
   ]
  },
  {
   "cell_type": "markdown",
   "metadata": {},
   "source": [
    "> Now the evidence in the graphs above have already given us the answer but we can use some machine learning and statistics for more informed/accurate answers to our problem. "
   ]
  },
  {
   "cell_type": "markdown",
   "metadata": {},
   "source": [
    "## MODELLING OF THE DATA AND MACHINE LEARNING"
   ]
  },
  {
   "cell_type": "code",
   "execution_count": 74,
   "metadata": {},
   "outputs": [],
   "source": [
    "# first we plot the confusion matrix and the learning curve\n",
    "\n",
    "# 1. Confusion matrix\n",
    "\n",
    "col_names = ['Incoming', 'Outgoing']\n",
    "\n",
    "################################################\n",
    "## Confusion Matrix Plot true vs pred values  ##\n",
    "################################################\n",
    "def CM(y_test, y_pred_test, col_names, model='model', fs=(8,6)):\n",
    "    \n",
    "    plt.rcParams.update({'font.size': 14})\n",
    "    \n",
    "    # Forming confusion matrix\n",
    "    c_matrix = confusion_matrix(y_test, y_pred_test)\n",
    "    \n",
    "    plt.figure(figsize=fs)\n",
    "    sns.heatmap(c_matrix, annot=True, annot_kws={'size':15},\n",
    "                fmt=\".0f\", cmap=plt.cm.Purples, linewidths=5)\n",
    "    \n",
    "    tick_marks = np.arange(len(col_names))\n",
    "    plt.xticks(tick_marks + 0.5, col_names)\n",
    "    plt.yticks(tick_marks + 0.5, col_names, rotation=0)\n",
    "    plt.xlabel('Precicted label')\n",
    "    plt.ylabel('True label')\n",
    "    plt.title(f'Confusion Matrix for {model} Model')\n",
    "    plt.show()"
   ]
  },
  {
   "cell_type": "code",
   "execution_count": 75,
   "metadata": {},
   "outputs": [],
   "source": [
    "# 2. Plot the training and validation curves\n",
    "def plot_learning_curve(estimator, title, X, y, ylim=None, cv=None,\n",
    "                        n_jobs=1, train_sizes=np.linspace(.1, 1.0, 5)):\n",
    "    plt.figure()\n",
    "    plt.title(title)\n",
    "    if ylim is not None:\n",
    "        plt.ylim(*ylim)\n",
    "    plt.xlabel(\"Training examples\")\n",
    "    plt.ylabel(\"Score\")\n",
    "    train_sizes, train_scores, test_scores = learning_curve(\n",
    "        estimator, X, y, cv=cv, n_jobs=n_jobs, train_sizes=train_sizes)\n",
    "    train_scores_mean = np.mean(train_scores, axis=1)\n",
    "    train_scores_std = np.std(train_scores, axis=1)\n",
    "    test_scores_mean = np.mean(test_scores, axis=1)\n",
    "    test_scores_std = np.std(test_scores, axis=1)\n",
    "    plt.grid()\n",
    "\n",
    "    plt.fill_between(train_sizes, train_scores_mean - train_scores_std,\n",
    "                     train_scores_mean + train_scores_std, alpha=0.1,\n",
    "                     color=\"r\")\n",
    "    plt.fill_between(train_sizes, test_scores_mean - test_scores_std,\n",
    "                     test_scores_mean + test_scores_std, alpha=0.1, color=\"g\")\n",
    "    plt.plot(train_sizes, train_scores_mean, 'o-', color=\"r\",\n",
    "             label=\"Training score\")\n",
    "    plt.plot(train_sizes, test_scores_mean, 'o-', color=\"g\",\n",
    "             label=\"Validation score\")\n",
    "\n",
    "    plt.legend(loc=\"best\")\n",
    "    return plt"
   ]
  },
  {
   "cell_type": "markdown",
   "metadata": {},
   "source": [
    "> ### The pariplot below is a representation of the correlations that are present in the data set"
   ]
  },
  {
   "cell_type": "code",
   "execution_count": 28,
   "metadata": {},
   "outputs": [
    {
     "data": {
      "image/png": "[encoded data removed]",
      "text/plain": [
       "<Figure size 442x360 with 6 Axes>"
      ]
     },
     "metadata": {
      "needs_background": "light"
     },
     "output_type": "display_data"
    }
   ],
   "source": [
    "sns.pairplot(df, hue='call_direction')\n",
    "plt.show()"
   ]
  },
  {
   "cell_type": "markdown",
   "metadata": {},
   "source": [
    "> Now let us do the modelling using sklearn\n",
    "\n",
    "> We have to split the data as necessary into training and test sets"
   ]
  },
  {
   "cell_type": "code",
   "execution_count": 76,
   "metadata": {},
   "outputs": [],
   "source": [
    "# But first, Let us encode the categorical value columns\n",
    "# using labelEnconder\n",
    "\n",
    "le = LabelEncoder()\n",
    "\n",
    "def encode(data_set, column):\n",
    "    data_set[str(column)] = le.fit_transform(data_set[str(column)])"
   ]
  },
  {
   "cell_type": "code",
   "execution_count": 77,
   "metadata": {},
   "outputs": [],
   "source": [
    "list_of_columns = ['account_age', 'account_state', 'call_direction', 'call_duration',\n",
    "       'call_outcome', 'call_topic_group']\n",
    "\n",
    "\n",
    "for item in list_of_columns:\n",
    "    encode(df,item)"
   ]
  },
  {
   "cell_type": "code",
   "execution_count": 78,
   "metadata": {},
   "outputs": [
    {
     "data": {
      "text/html": [
       "<div>\n",
       "<style scoped>\n",
       "    .dataframe tbody tr th:only-of-type {\n",
       "        vertical-align: middle;\n",
       "    }\n",
       "\n",
       "    .dataframe tbody tr th {\n",
       "        vertical-align: top;\n",
       "    }\n",
       "\n",
       "    .dataframe thead th {\n",
       "        text-align: right;\n",
       "    }\n",
       "</style>\n",
       "<table border=\"1\" class=\"dataframe\">\n",
       "  <thead>\n",
       "    <tr style=\"text-align: right;\">\n",
       "      <th></th>\n",
       "      <th>account_age</th>\n",
       "      <th>account_state</th>\n",
       "      <th>call_direction</th>\n",
       "      <th>call_duration</th>\n",
       "      <th>call_outcome</th>\n",
       "      <th>call_topic_group</th>\n",
       "    </tr>\n",
       "  </thead>\n",
       "  <tbody>\n",
       "    <tr>\n",
       "      <th>31808</th>\n",
       "      <td>5</td>\n",
       "      <td>2</td>\n",
       "      <td>0</td>\n",
       "      <td>228</td>\n",
       "      <td>0</td>\n",
       "      <td>8</td>\n",
       "    </tr>\n",
       "    <tr>\n",
       "      <th>8764</th>\n",
       "      <td>555</td>\n",
       "      <td>2</td>\n",
       "      <td>0</td>\n",
       "      <td>244</td>\n",
       "      <td>0</td>\n",
       "      <td>3</td>\n",
       "    </tr>\n",
       "    <tr>\n",
       "      <th>28528</th>\n",
       "      <td>279</td>\n",
       "      <td>2</td>\n",
       "      <td>0</td>\n",
       "      <td>206</td>\n",
       "      <td>0</td>\n",
       "      <td>4</td>\n",
       "    </tr>\n",
       "    <tr>\n",
       "      <th>4042</th>\n",
       "      <td>213</td>\n",
       "      <td>2</td>\n",
       "      <td>0</td>\n",
       "      <td>124</td>\n",
       "      <td>0</td>\n",
       "      <td>3</td>\n",
       "    </tr>\n",
       "    <tr>\n",
       "      <th>9951</th>\n",
       "      <td>202</td>\n",
       "      <td>2</td>\n",
       "      <td>0</td>\n",
       "      <td>168</td>\n",
       "      <td>0</td>\n",
       "      <td>3</td>\n",
       "    </tr>\n",
       "    <tr>\n",
       "      <th>3237</th>\n",
       "      <td>647</td>\n",
       "      <td>1</td>\n",
       "      <td>0</td>\n",
       "      <td>215</td>\n",
       "      <td>0</td>\n",
       "      <td>8</td>\n",
       "    </tr>\n",
       "    <tr>\n",
       "      <th>7218</th>\n",
       "      <td>53</td>\n",
       "      <td>2</td>\n",
       "      <td>0</td>\n",
       "      <td>30</td>\n",
       "      <td>0</td>\n",
       "      <td>6</td>\n",
       "    </tr>\n",
       "    <tr>\n",
       "      <th>29166</th>\n",
       "      <td>415</td>\n",
       "      <td>3</td>\n",
       "      <td>0</td>\n",
       "      <td>617</td>\n",
       "      <td>0</td>\n",
       "      <td>4</td>\n",
       "    </tr>\n",
       "    <tr>\n",
       "      <th>26885</th>\n",
       "      <td>242</td>\n",
       "      <td>2</td>\n",
       "      <td>0</td>\n",
       "      <td>313</td>\n",
       "      <td>8</td>\n",
       "      <td>4</td>\n",
       "    </tr>\n",
       "    <tr>\n",
       "      <th>13563</th>\n",
       "      <td>66</td>\n",
       "      <td>2</td>\n",
       "      <td>0</td>\n",
       "      <td>232</td>\n",
       "      <td>0</td>\n",
       "      <td>3</td>\n",
       "    </tr>\n",
       "  </tbody>\n",
       "</table>\n",
       "</div>"
      ],
      "text/plain": [
       "       account_age  account_state  call_direction  call_duration  \\\n",
       "31808            5              2               0            228   \n",
       "8764           555              2               0            244   \n",
       "28528          279              2               0            206   \n",
       "4042           213              2               0            124   \n",
       "9951           202              2               0            168   \n",
       "3237           647              1               0            215   \n",
       "7218            53              2               0             30   \n",
       "29166          415              3               0            617   \n",
       "26885          242              2               0            313   \n",
       "13563           66              2               0            232   \n",
       "\n",
       "       call_outcome  call_topic_group  \n",
       "31808             0                 8  \n",
       "8764              0                 3  \n",
       "28528             0                 4  \n",
       "4042              0                 3  \n",
       "9951              0                 3  \n",
       "3237              0                 8  \n",
       "7218              0                 6  \n",
       "29166             0                 4  \n",
       "26885             8                 4  \n",
       "13563             0                 3  "
      ]
     },
     "execution_count": 78,
     "metadata": {},
     "output_type": "execute_result"
    }
   ],
   "source": [
    "df.sample(10)"
   ]
  },
  {
   "cell_type": "code",
   "execution_count": 79,
   "metadata": {},
   "outputs": [
    {
     "data": {
      "text/plain": [
       "array([0, 1])"
      ]
     },
     "execution_count": 79,
     "metadata": {},
     "output_type": "execute_result"
    }
   ],
   "source": [
    "df.call_direction.unique()"
   ]
  },
  {
   "cell_type": "code",
   "execution_count": 80,
   "metadata": {},
   "outputs": [
    {
     "name": "stderr",
     "output_type": "stream",
     "text": [
      "C:\\Users\\hi\\AppData\\Local\\Temp\\ipykernel_2692\\3982118084.py:2: FutureWarning: In a future version of pandas all arguments of DataFrame.drop except for the argument 'labels' will be keyword-only.\n",
      "  X = df.drop('call_direction', 1)\n"
     ]
    }
   ],
   "source": [
    "#We select the values for X and y sets \n",
    "X = df.drop('call_direction', 1)\n",
    "y = df.call_direction"
   ]
  },
  {
   "cell_type": "code",
   "execution_count": 81,
   "metadata": {},
   "outputs": [
    {
     "data": {
      "text/plain": [
       "0        0\n",
       "1        0\n",
       "2        0\n",
       "3        0\n",
       "4        0\n",
       "        ..\n",
       "32022    0\n",
       "32023    0\n",
       "32024    0\n",
       "32025    0\n",
       "32027    0\n",
       "Name: call_direction, Length: 29517, dtype: int32"
      ]
     },
     "execution_count": 81,
     "metadata": {},
     "output_type": "execute_result"
    }
   ],
   "source": [
    "# checking for the values of y set\n",
    "y"
   ]
  },
  {
   "cell_type": "code",
   "execution_count": 82,
   "metadata": {},
   "outputs": [
    {
     "data": {
      "text/html": [
       "<div>\n",
       "<style scoped>\n",
       "    .dataframe tbody tr th:only-of-type {\n",
       "        vertical-align: middle;\n",
       "    }\n",
       "\n",
       "    .dataframe tbody tr th {\n",
       "        vertical-align: top;\n",
       "    }\n",
       "\n",
       "    .dataframe thead th {\n",
       "        text-align: right;\n",
       "    }\n",
       "</style>\n",
       "<table border=\"1\" class=\"dataframe\">\n",
       "  <thead>\n",
       "    <tr style=\"text-align: right;\">\n",
       "      <th></th>\n",
       "      <th>account_age</th>\n",
       "      <th>account_state</th>\n",
       "      <th>call_duration</th>\n",
       "      <th>call_outcome</th>\n",
       "      <th>call_topic_group</th>\n",
       "    </tr>\n",
       "  </thead>\n",
       "  <tbody>\n",
       "    <tr>\n",
       "      <th>0</th>\n",
       "      <td>306</td>\n",
       "      <td>2</td>\n",
       "      <td>49</td>\n",
       "      <td>0</td>\n",
       "      <td>6</td>\n",
       "    </tr>\n",
       "    <tr>\n",
       "      <th>1</th>\n",
       "      <td>127</td>\n",
       "      <td>2</td>\n",
       "      <td>118</td>\n",
       "      <td>0</td>\n",
       "      <td>3</td>\n",
       "    </tr>\n",
       "    <tr>\n",
       "      <th>2</th>\n",
       "      <td>700</td>\n",
       "      <td>2</td>\n",
       "      <td>296</td>\n",
       "      <td>0</td>\n",
       "      <td>1</td>\n",
       "    </tr>\n",
       "    <tr>\n",
       "      <th>3</th>\n",
       "      <td>27</td>\n",
       "      <td>2</td>\n",
       "      <td>228</td>\n",
       "      <td>0</td>\n",
       "      <td>3</td>\n",
       "    </tr>\n",
       "    <tr>\n",
       "      <th>4</th>\n",
       "      <td>49</td>\n",
       "      <td>2</td>\n",
       "      <td>159</td>\n",
       "      <td>0</td>\n",
       "      <td>3</td>\n",
       "    </tr>\n",
       "    <tr>\n",
       "      <th>...</th>\n",
       "      <td>...</td>\n",
       "      <td>...</td>\n",
       "      <td>...</td>\n",
       "      <td>...</td>\n",
       "      <td>...</td>\n",
       "    </tr>\n",
       "    <tr>\n",
       "      <th>32022</th>\n",
       "      <td>178</td>\n",
       "      <td>2</td>\n",
       "      <td>613</td>\n",
       "      <td>0</td>\n",
       "      <td>3</td>\n",
       "    </tr>\n",
       "    <tr>\n",
       "      <th>32023</th>\n",
       "      <td>73</td>\n",
       "      <td>2</td>\n",
       "      <td>395</td>\n",
       "      <td>0</td>\n",
       "      <td>4</td>\n",
       "    </tr>\n",
       "    <tr>\n",
       "      <th>32024</th>\n",
       "      <td>188</td>\n",
       "      <td>2</td>\n",
       "      <td>775</td>\n",
       "      <td>0</td>\n",
       "      <td>3</td>\n",
       "    </tr>\n",
       "    <tr>\n",
       "      <th>32025</th>\n",
       "      <td>391</td>\n",
       "      <td>2</td>\n",
       "      <td>77</td>\n",
       "      <td>0</td>\n",
       "      <td>6</td>\n",
       "    </tr>\n",
       "    <tr>\n",
       "      <th>32027</th>\n",
       "      <td>5</td>\n",
       "      <td>2</td>\n",
       "      <td>187</td>\n",
       "      <td>0</td>\n",
       "      <td>8</td>\n",
       "    </tr>\n",
       "  </tbody>\n",
       "</table>\n",
       "<p>29517 rows × 5 columns</p>\n",
       "</div>"
      ],
      "text/plain": [
       "       account_age  account_state  call_duration  call_outcome  \\\n",
       "0              306              2             49             0   \n",
       "1              127              2            118             0   \n",
       "2              700              2            296             0   \n",
       "3               27              2            228             0   \n",
       "4               49              2            159             0   \n",
       "...            ...            ...            ...           ...   \n",
       "32022          178              2            613             0   \n",
       "32023           73              2            395             0   \n",
       "32024          188              2            775             0   \n",
       "32025          391              2             77             0   \n",
       "32027            5              2            187             0   \n",
       "\n",
       "       call_topic_group  \n",
       "0                     6  \n",
       "1                     3  \n",
       "2                     1  \n",
       "3                     3  \n",
       "4                     3  \n",
       "...                 ...  \n",
       "32022                 3  \n",
       "32023                 4  \n",
       "32024                 3  \n",
       "32025                 6  \n",
       "32027                 8  \n",
       "\n",
       "[29517 rows x 5 columns]"
      ]
     },
     "execution_count": 82,
     "metadata": {},
     "output_type": "execute_result"
    }
   ],
   "source": [
    "# checking for the value of X set\n",
    "X"
   ]
  },
  {
   "cell_type": "code",
   "execution_count": 83,
   "metadata": {},
   "outputs": [],
   "source": [
    "#Splitting the dataset\n",
    "X_train, X_test, y_train, y_test = train_test_split(X, y, test_size=0.3, random_state=0)"
   ]
  },
  {
   "cell_type": "code",
   "execution_count": 84,
   "metadata": {},
   "outputs": [
    {
     "data": {
      "text/plain": [
       "0    6813\n",
       "1    2043\n",
       "Name: call_direction, dtype: int64"
      ]
     },
     "execution_count": 84,
     "metadata": {},
     "output_type": "execute_result"
    }
   ],
   "source": [
    "#checking for the count of unique values in the test set\n",
    "y_test.value_counts()"
   ]
  },
  {
   "cell_type": "code",
   "execution_count": 85,
   "metadata": {},
   "outputs": [
    {
     "data": {
      "text/plain": [
       "(8856, 5)"
      ]
     },
     "execution_count": 85,
     "metadata": {},
     "output_type": "execute_result"
    }
   ],
   "source": [
    "#Seeing how many are in the test dataset\n",
    "X_test.shape"
   ]
  },
  {
   "cell_type": "code",
   "execution_count": 86,
   "metadata": {},
   "outputs": [
    {
     "data": {
      "text/plain": [
       "(8856,)"
      ]
     },
     "execution_count": 86,
     "metadata": {},
     "output_type": "execute_result"
    }
   ],
   "source": [
    "#Seeing how many are in the train dataset\n",
    "y_test.shape"
   ]
  },
  {
   "cell_type": "code",
   "execution_count": 40,
   "metadata": {},
   "outputs": [
    {
     "name": "stdout",
     "output_type": "stream",
     "text": [
      "{'C': 1.0, 'class_weight': None, 'dual': False, 'fit_intercept': True, 'intercept_scaling': 1, 'l1_ratio': None, 'max_iter': 100, 'multi_class': 'auto', 'n_jobs': None, 'penalty': 'l2', 'random_state': 0, 'solver': 'liblinear', 'tol': 0.0001, 'verbose': 0, 'warm_start': False}\n"
     ]
    }
   ],
   "source": [
    "#Fitting the Logistic Regression model\n",
    "\n",
    "# Now we model\n",
    "from sklearn.linear_model import LogisticRegression\n",
    "\n",
    "# using default parameters\n",
    "model = LogisticRegression(solver='liblinear', random_state=0)\n",
    "\n",
    "# fit the model\n",
    "model = model.fit(X_train, y_train)\n",
    "\n",
    "# make predictions\n",
    "y_pred = model.predict(X_test)\n",
    "\n",
    "#print the tunable parameters (kept as default)\n",
    "params = model.get_params()\n",
    "print(params)"
   ]
  },
  {
   "cell_type": "markdown",
   "metadata": {},
   "source": [
    "> Once we have fitted (trained) the model, we can make predictions using the predict() function. We pass the values of x_test to this method and compare the predicted values called y_pred with y_test values to check how accurate our predicted values are."
   ]
  },
  {
   "cell_type": "code",
   "execution_count": 41,
   "metadata": {},
   "outputs": [
    {
     "data": {
      "text/html": [
       "<div>\n",
       "<style scoped>\n",
       "    .dataframe tbody tr th:only-of-type {\n",
       "        vertical-align: middle;\n",
       "    }\n",
       "\n",
       "    .dataframe tbody tr th {\n",
       "        vertical-align: top;\n",
       "    }\n",
       "\n",
       "    .dataframe thead th {\n",
       "        text-align: right;\n",
       "    }\n",
       "</style>\n",
       "<table border=\"1\" class=\"dataframe\">\n",
       "  <thead>\n",
       "    <tr style=\"text-align: right;\">\n",
       "      <th></th>\n",
       "      <th>Actual value</th>\n",
       "      <th>Predicted value</th>\n",
       "    </tr>\n",
       "  </thead>\n",
       "  <tbody>\n",
       "    <tr>\n",
       "      <th>4200</th>\n",
       "      <td>0</td>\n",
       "      <td>0</td>\n",
       "    </tr>\n",
       "    <tr>\n",
       "      <th>20538</th>\n",
       "      <td>0</td>\n",
       "      <td>0</td>\n",
       "    </tr>\n",
       "    <tr>\n",
       "      <th>1527</th>\n",
       "      <td>0</td>\n",
       "      <td>0</td>\n",
       "    </tr>\n",
       "    <tr>\n",
       "      <th>6549</th>\n",
       "      <td>0</td>\n",
       "      <td>0</td>\n",
       "    </tr>\n",
       "    <tr>\n",
       "      <th>21801</th>\n",
       "      <td>0</td>\n",
       "      <td>0</td>\n",
       "    </tr>\n",
       "    <tr>\n",
       "      <th>19536</th>\n",
       "      <td>0</td>\n",
       "      <td>0</td>\n",
       "    </tr>\n",
       "    <tr>\n",
       "      <th>7774</th>\n",
       "      <td>1</td>\n",
       "      <td>1</td>\n",
       "    </tr>\n",
       "    <tr>\n",
       "      <th>11218</th>\n",
       "      <td>0</td>\n",
       "      <td>0</td>\n",
       "    </tr>\n",
       "    <tr>\n",
       "      <th>21472</th>\n",
       "      <td>0</td>\n",
       "      <td>0</td>\n",
       "    </tr>\n",
       "    <tr>\n",
       "      <th>26514</th>\n",
       "      <td>1</td>\n",
       "      <td>1</td>\n",
       "    </tr>\n",
       "  </tbody>\n",
       "</table>\n",
       "</div>"
      ],
      "text/plain": [
       "       Actual value  Predicted value\n",
       "4200              0                0\n",
       "20538             0                0\n",
       "1527              0                0\n",
       "6549              0                0\n",
       "21801             0                0\n",
       "19536             0                0\n",
       "7774              1                1\n",
       "11218             0                0\n",
       "21472             0                0\n",
       "26514             1                1"
      ]
     },
     "execution_count": 41,
     "metadata": {},
     "output_type": "execute_result"
    }
   ],
   "source": [
    "#Actual value and the predicted value\n",
    "a = pd.DataFrame({'Actual value': y_test, 'Predicted value':y_pred})\n",
    "a.sample(10)"
   ]
  },
  {
   "cell_type": "markdown",
   "metadata": {},
   "source": [
    "> Evaluation of the model"
   ]
  },
  {
   "cell_type": "code",
   "execution_count": 42,
   "metadata": {},
   "outputs": [
    {
     "data": {
      "text/plain": [
       "array([[6425,  388],\n",
       "       [ 791, 1252]], dtype=int64)"
      ]
     },
     "execution_count": 42,
     "metadata": {},
     "output_type": "execute_result"
    }
   ],
   "source": [
    "# Let us evaluate the model using the confusion matrix\n",
    "cnf_matrix = metrics.confusion_matrix(y_test, y_pred)\n",
    "cnf_matrix"
   ]
  },
  {
   "cell_type": "code",
   "execution_count": 43,
   "metadata": {},
   "outputs": [
    {
     "data": {
      "image/png": "[encoded data removed]",
      "text/plain": [
       "<Figure size 576x432 with 2 Axes>"
      ]
     },
     "metadata": {
      "needs_background": "light"
     },
     "output_type": "display_data"
    }
   ],
   "source": [
    "#Plotting the Confusion matrix and classification report\n",
    "\n",
    "CM(y_test, y_pred, col_names=col_names, model='Logistic Regression')"
   ]
  },
  {
   "cell_type": "markdown",
   "metadata": {},
   "source": [
    "Therefore, the logistic model predicted that there are 6426 incoming calls that are actually incoming calls as compared to the 1252 outgoing calls that are actually outgoing calls.\n",
    "\n",
    "However, it also predicted 791 false nagative incoming calls as as well as  388 false positives outgoing calls"
   ]
  },
  {
   "cell_type": "code",
   "execution_count": 44,
   "metadata": {},
   "outputs": [
    {
     "name": "stdout",
     "output_type": "stream",
     "text": [
      "Accuracy Score: 0.867\n",
      "\n"
     ]
    }
   ],
   "source": [
    "# checking for accuracy of our model\n",
    "y_ac = accuracy_score(y_test, y_pred)\n",
    "\n",
    "print(f'Accuracy Score: {y_ac:.3f}\\n')"
   ]
  },
  {
   "cell_type": "markdown",
   "metadata": {},
   "source": [
    "Therefore, the logistic model is 86.7% accurate of its predictions."
   ]
  },
  {
   "cell_type": "code",
   "execution_count": 45,
   "metadata": {},
   "outputs": [
    {
     "name": "stdout",
     "output_type": "stream",
     "text": [
      "              precision    recall  f1-score   support\n",
      "\n",
      "    Incoming       0.89      0.94      0.92      6813\n",
      "    Outgoing       0.76      0.61      0.68      2043\n",
      "\n",
      "    accuracy                           0.87      8856\n",
      "   macro avg       0.83      0.78      0.80      8856\n",
      "weighted avg       0.86      0.87      0.86      8856\n",
      "\n"
     ]
    }
   ],
   "source": [
    "# Evaluating the model using the classification report\n",
    "\n",
    "report = classification_report(y_test, y_pred, target_names=[\"Incoming\", \"Outgoing\"])\n",
    "print(report)"
   ]
  },
  {
   "cell_type": "markdown",
   "metadata": {},
   "source": [
    "### We got a classification rate of 87%, which is considered as quite good accuracy.\n",
    "\n",
    "> Precision : The Logistic Regression model predicted calls are incoming, those calls have 89% predicted accuracy.\n",
    "\n",
    "> Recall : The Logistic Regression model  recalls 94% of all incoming calls in the test set per 100"
   ]
  },
  {
   "cell_type": "code",
   "execution_count": 46,
   "metadata": {},
   "outputs": [
    {
     "data": {
      "image/png": "[encoded data removed]",
      "text/plain": [
       "<Figure size 432x288 with 1 Axes>"
      ]
     },
     "metadata": {
      "needs_background": "light"
     },
     "output_type": "display_data"
    }
   ],
   "source": [
    "# Plot learning curves\n",
    "title = \"Learning Curves (Logistic Regression)\"\n",
    "cv = 10\n",
    "plot_learning_curve(model, title, X_train, y_train, ylim=(0.7, 1.01), cv=cv, n_jobs=1);"
   ]
  },
  {
   "cell_type": "code",
   "execution_count": 47,
   "metadata": {},
   "outputs": [
    {
     "data": {
      "image/png": "[encoded data removed]",
      "text/plain": [
       "<Figure size 432x288 with 1 Axes>"
      ]
     },
     "metadata": {
      "needs_background": "light"
     },
     "output_type": "display_data"
    }
   ],
   "source": [
    "# Plot learning curves\n",
    "title = \"Learning Curves (Logistic Regression)\"\n",
    "cv = 10\n",
    "plot_learning_curve(model, title, X_train, y_train,cv=cv, n_jobs=1);"
   ]
  },
  {
   "cell_type": "markdown",
   "metadata": {},
   "source": [
    "Since the training and validation scores are convergent at a lower score , therefore we are certain that the logistic model isn't effectively generalizing upon the dataset."
   ]
  },
  {
   "cell_type": "code",
   "execution_count": 48,
   "metadata": {},
   "outputs": [
    {
     "data": {
      "image/png": "[encoded data removed]",
      "text/plain": [
       "<Figure size 576x432 with 1 Axes>"
      ]
     },
     "metadata": {
      "needs_background": "light"
     },
     "output_type": "display_data"
    }
   ],
   "source": [
    "# HYPERPARAMATOR TUNING THE MODEL\n",
    "\n",
    "# Define the hyperparameter values to test\n",
    "param_range = np.logspace(-6, 3, 10)\n",
    "\n",
    "# Create the validation curve\n",
    "train_scores, test_scores = validation_curve(LogisticRegression(penalty='l2', max_iter=10000), X_train, y_train, param_name=\"C\", param_range=param_range, scoring=\"accuracy\", cv=5\n",
    ")\n",
    "\n",
    "# Calculate the mean and standard deviation of the training and test scores\n",
    "train_mean = np.mean(train_scores, axis=1)\n",
    "train_std = np.std(train_scores, axis=1)\n",
    "test_mean = np.mean(test_scores, axis=1)\n",
    "test_std = np.std(test_scores, axis=1)\n",
    "\n",
    "# Plot the validation curve\n",
    "plt.figure(figsize=(8, 6))\n",
    "plt.title(\"Validation Curve for Logistic Regression Classifier\")\n",
    "plt.xlabel(\"C\")\n",
    "plt.ylabel(\"Accuracy\")\n",
    "plt.ylim(0.0, 1.1)\n",
    "plt.semilogx(param_range, train_mean, label=\"Training score\", color=\"darkorange\")\n",
    "plt.fill_between(param_range, train_mean - train_std, train_mean + train_std, alpha=0.2, color=\"darkorange\")\n",
    "plt.semilogx(param_range, test_mean, label=\"Cross-validation score\", color=\"navy\")\n",
    "plt.fill_between(param_range, test_mean - test_std, test_mean + test_std, alpha=0.2, color=\"navy\")\n",
    "plt.legend(loc=\"best\")\n",
    "plt.show()\n"
   ]
  },
  {
   "cell_type": "code",
   "execution_count": 49,
   "metadata": {},
   "outputs": [
    {
     "data": {
      "image/png": "[encoded data removed]",
      "text/plain": [
       "<Figure size 576x432 with 1 Axes>"
      ]
     },
     "metadata": {
      "needs_background": "light"
     },
     "output_type": "display_data"
    }
   ],
   "source": [
    "# Define the hyperparameter values to test\n",
    "param_range = np.logspace(-6, 3, 10)\n",
    "\n",
    "# Create the validation curve\n",
    "train_scores, test_scores = validation_curve(LogisticRegression(penalty='l2', max_iter=10000), X_train, y_train, param_name=\"C\", param_range=param_range, scoring=\"accuracy\", cv=5\n",
    ")\n",
    "\n",
    "# Calculate the mean and standard deviation of the training and test scores\n",
    "train_mean = np.mean(train_scores, axis=1)\n",
    "train_std = np.std(train_scores, axis=1)\n",
    "test_mean = np.mean(test_scores, axis=1)\n",
    "test_std = np.std(test_scores, axis=1)\n",
    "\n",
    "# Plot the validation curve\n",
    "plt.figure(figsize=(8, 6))\n",
    "plt.title(\"Validation Curve for Logistic Regression Classifier\")\n",
    "plt.xlabel(\"C\")\n",
    "plt.ylabel(\"Accuracy\")\n",
    "plt.semilogx(param_range, train_mean, label=\"Training score\", color=\"darkorange\")\n",
    "plt.fill_between(param_range, train_mean - train_std, train_mean + train_std, alpha=0.2, color=\"darkorange\")\n",
    "plt.semilogx(param_range, test_mean, label=\"Cross-validation score\", color=\"navy\")\n",
    "plt.fill_between(param_range, test_mean - test_std, test_mean + test_std, alpha=0.2, color=\"navy\")\n",
    "plt.legend(loc=\"best\")\n",
    "plt.show()"
   ]
  },
  {
   "cell_type": "markdown",
   "metadata": {},
   "source": [
    "And upon hyper parameter tuning the logistic meodel, the validation curves comfirms that the model is now performing better and thus the model a goof fit upon learning on the training dataset and the validation dataset"
   ]
  },
  {
   "cell_type": "markdown",
   "metadata": {},
   "source": [
    "## TRYING OUT OUR DATASET ON OTHER MACHINE LEARNING MODELS."
   ]
  },
  {
   "cell_type": "markdown",
   "metadata": {},
   "source": [
    "### Decision Tree Model"
   ]
  },
  {
   "cell_type": "code",
   "execution_count": 87,
   "metadata": {},
   "outputs": [],
   "source": [
    "# Decision tree classifier\n",
    "\n",
    "from sklearn.tree import DecisionTreeClassifier\n",
    "\n",
    "# Create the DecisionTreeClassifier \n",
    "DT = DecisionTreeClassifier(random_state=0)\n",
    "\n",
    "# Fitting Model\n",
    "DT.fit(X_train, y_train)\n",
    "\n",
    "# Getting Predictions\n",
    "DT_pred = DT.predict(X_test)"
   ]
  },
  {
   "cell_type": "code",
   "execution_count": 88,
   "metadata": {},
   "outputs": [
    {
     "name": "stdout",
     "output_type": "stream",
     "text": [
      "Accuracy Score: 0.930\n",
      "\n"
     ]
    }
   ],
   "source": [
    "# Model Accuracy, how often is the classifier correct\n",
    "DT_ac = accuracy_score(y_test, DT_pred)\n",
    "\n",
    "print(f'Accuracy Score: {DT_ac:.3f}\\n')"
   ]
  },
  {
   "cell_type": "markdown",
   "metadata": {},
   "source": [
    "The Decision Tree Model is giving us a better accuracy score at 93% as compared to the earlier score of the logisitic model"
   ]
  },
  {
   "cell_type": "code",
   "execution_count": 89,
   "metadata": {},
   "outputs": [
    {
     "data": {
      "text/html": [
       "<div>\n",
       "<style scoped>\n",
       "    .dataframe tbody tr th:only-of-type {\n",
       "        vertical-align: middle;\n",
       "    }\n",
       "\n",
       "    .dataframe tbody tr th {\n",
       "        vertical-align: top;\n",
       "    }\n",
       "\n",
       "    .dataframe thead th {\n",
       "        text-align: right;\n",
       "    }\n",
       "</style>\n",
       "<table border=\"1\" class=\"dataframe\">\n",
       "  <thead>\n",
       "    <tr style=\"text-align: right;\">\n",
       "      <th></th>\n",
       "      <th>Actual value</th>\n",
       "      <th>Predicted value</th>\n",
       "    </tr>\n",
       "  </thead>\n",
       "  <tbody>\n",
       "    <tr>\n",
       "      <th>29221</th>\n",
       "      <td>0</td>\n",
       "      <td>0</td>\n",
       "    </tr>\n",
       "    <tr>\n",
       "      <th>8239</th>\n",
       "      <td>1</td>\n",
       "      <td>1</td>\n",
       "    </tr>\n",
       "    <tr>\n",
       "      <th>10239</th>\n",
       "      <td>0</td>\n",
       "      <td>0</td>\n",
       "    </tr>\n",
       "    <tr>\n",
       "      <th>12793</th>\n",
       "      <td>0</td>\n",
       "      <td>0</td>\n",
       "    </tr>\n",
       "    <tr>\n",
       "      <th>7189</th>\n",
       "      <td>0</td>\n",
       "      <td>0</td>\n",
       "    </tr>\n",
       "    <tr>\n",
       "      <th>5255</th>\n",
       "      <td>1</td>\n",
       "      <td>1</td>\n",
       "    </tr>\n",
       "    <tr>\n",
       "      <th>26710</th>\n",
       "      <td>1</td>\n",
       "      <td>1</td>\n",
       "    </tr>\n",
       "    <tr>\n",
       "      <th>5784</th>\n",
       "      <td>0</td>\n",
       "      <td>0</td>\n",
       "    </tr>\n",
       "    <tr>\n",
       "      <th>26526</th>\n",
       "      <td>1</td>\n",
       "      <td>1</td>\n",
       "    </tr>\n",
       "    <tr>\n",
       "      <th>26475</th>\n",
       "      <td>0</td>\n",
       "      <td>0</td>\n",
       "    </tr>\n",
       "  </tbody>\n",
       "</table>\n",
       "</div>"
      ],
      "text/plain": [
       "       Actual value  Predicted value\n",
       "29221             0                0\n",
       "8239              1                1\n",
       "10239             0                0\n",
       "12793             0                0\n",
       "7189              0                0\n",
       "5255              1                1\n",
       "26710             1                1\n",
       "5784              0                0\n",
       "26526             1                1\n",
       "26475             0                0"
      ]
     },
     "execution_count": 89,
     "metadata": {},
     "output_type": "execute_result"
    }
   ],
   "source": [
    "#Actual value and the predicted value of the Decision Tree Classifier\n",
    "a = pd.DataFrame({'Actual value': y_test, 'Predicted value':DT_pred})\n",
    "a.sample(10)"
   ]
  },
  {
   "cell_type": "code",
   "execution_count": 90,
   "metadata": {},
   "outputs": [
    {
     "data": {
      "text/html": [
       "<div>\n",
       "<style scoped>\n",
       "    .dataframe tbody tr th:only-of-type {\n",
       "        vertical-align: middle;\n",
       "    }\n",
       "\n",
       "    .dataframe tbody tr th {\n",
       "        vertical-align: top;\n",
       "    }\n",
       "\n",
       "    .dataframe thead th {\n",
       "        text-align: right;\n",
       "    }\n",
       "</style>\n",
       "<table border=\"1\" class=\"dataframe\">\n",
       "  <thead>\n",
       "    <tr style=\"text-align: right;\">\n",
       "      <th></th>\n",
       "      <th>call_direction</th>\n",
       "      <th>Test Outcome</th>\n",
       "    </tr>\n",
       "  </thead>\n",
       "  <tbody>\n",
       "    <tr>\n",
       "      <th>0</th>\n",
       "      <td>6813</td>\n",
       "      <td>6829</td>\n",
       "    </tr>\n",
       "    <tr>\n",
       "      <th>1</th>\n",
       "      <td>2043</td>\n",
       "      <td>2027</td>\n",
       "    </tr>\n",
       "  </tbody>\n",
       "</table>\n",
       "</div>"
      ],
      "text/plain": [
       "   call_direction  Test Outcome\n",
       "0            6813          6829\n",
       "1            2043          2027"
      ]
     },
     "execution_count": 90,
     "metadata": {},
     "output_type": "execute_result"
    }
   ],
   "source": [
    "# checking for the predictability in the test set\n",
    "DT_pred_df = pd.DataFrame(pd.Series(DT_pred).value_counts(), columns=['Test Outcome'])\n",
    "pd.concat([y_test.value_counts(), DT_pred_df], axis=1)"
   ]
  },
  {
   "cell_type": "code",
   "execution_count": 42,
   "metadata": {},
   "outputs": [
    {
     "data": {
      "image/png": "[encoded data removed]",
      "text/plain": [
       "<Figure size 576x432 with 2 Axes>"
      ]
     },
     "metadata": {
      "needs_background": "light"
     },
     "output_type": "display_data"
    }
   ],
   "source": [
    "CM(y_test, DT_pred, col_names=col_names, model='Decision Tree')"
   ]
  },
  {
   "cell_type": "markdown",
   "metadata": {},
   "source": [
    "Therefore, the Descision Tree model predicted that there are 6512 incoming calls that are actually incoming calls as compared to the 1726 outgoing calls that are actually outgoing calls.\n",
    "\n",
    "However, it also predicted 317 false nagative incoming calls as as well as  301 false positives outgoing calls.\n",
    "\n",
    "In conclusion, the model got the correct predictions most part of the time and is thus providing more reliable predictions"
   ]
  },
  {
   "cell_type": "code",
   "execution_count": 91,
   "metadata": {
    "scrolled": false
   },
   "outputs": [
    {
     "name": "stdout",
     "output_type": "stream",
     "text": [
      "              precision    recall  f1-score   support\n",
      "\n",
      "    Incoming       0.95      0.96      0.95      6813\n",
      "    Outgoing       0.85      0.84      0.85      2043\n",
      "\n",
      "    accuracy                           0.93      8856\n",
      "   macro avg       0.90      0.90      0.90      8856\n",
      "weighted avg       0.93      0.93      0.93      8856\n",
      "\n"
     ]
    }
   ],
   "source": [
    "# evaluating using the classification report\n",
    "report = classification_report(y_test, DT_pred, target_names=[\"Incoming\", \"Outgoing\"])\n",
    "print(report)"
   ]
  },
  {
   "cell_type": "markdown",
   "metadata": {},
   "source": [
    "### We got a classification rate of accuracy of 93%, which is considered as a very good accuracy.\n",
    "\n",
    "> Precision : The DT model predicted calls are incoming, those calls have 95% predicted accuracy.\n",
    "\n",
    "> Recall : The DT model  recalls 96% of all incoming calls in the test set per 100"
   ]
  },
  {
   "cell_type": "markdown",
   "metadata": {},
   "source": [
    "### 3. SUPPORT VECTOR MACHINE"
   ]
  },
  {
   "cell_type": "code",
   "execution_count": 56,
   "metadata": {},
   "outputs": [],
   "source": [
    "# Import svm model\n",
    "from sklearn import svm\n",
    "\n",
    "# Create a svm Classifier\n",
    "clf = svm.SVC(cache_size=7000, random_state=0)  # Polynomial Kernel\n",
    "\n",
    "# Train the model using the training sets\n",
    "clf.fit(X_train, y_train)\n",
    "\n",
    "# Predict the response for the test dataset\n",
    "clf_pred = clf.predict(X_test)"
   ]
  },
  {
   "cell_type": "code",
   "execution_count": 57,
   "metadata": {},
   "outputs": [
    {
     "name": "stdout",
     "output_type": "stream",
     "text": [
      "Accuracy: 0.7869241192411924\n"
     ]
    }
   ],
   "source": [
    "#Import scikit-learn metrics module for accuracy calculation\n",
    "from sklearn import metrics\n",
    "\n",
    "# Model Accuracy: how often is the classifier correct?\n",
    "print(\"Accuracy:\",metrics.accuracy_score(y_test, clf_pred))\n"
   ]
  },
  {
   "cell_type": "markdown",
   "metadata": {},
   "source": [
    "The SVM therefore predicts with an accuracy of 78.6%"
   ]
  },
  {
   "cell_type": "code",
   "execution_count": 58,
   "metadata": {},
   "outputs": [
    {
     "data": {
      "text/html": [
       "<div>\n",
       "<style scoped>\n",
       "    .dataframe tbody tr th:only-of-type {\n",
       "        vertical-align: middle;\n",
       "    }\n",
       "\n",
       "    .dataframe tbody tr th {\n",
       "        vertical-align: top;\n",
       "    }\n",
       "\n",
       "    .dataframe thead th {\n",
       "        text-align: right;\n",
       "    }\n",
       "</style>\n",
       "<table border=\"1\" class=\"dataframe\">\n",
       "  <thead>\n",
       "    <tr style=\"text-align: right;\">\n",
       "      <th></th>\n",
       "      <th>Actual value</th>\n",
       "      <th>Predicted value</th>\n",
       "    </tr>\n",
       "  </thead>\n",
       "  <tbody>\n",
       "    <tr>\n",
       "      <th>25296</th>\n",
       "      <td>0</td>\n",
       "      <td>0</td>\n",
       "    </tr>\n",
       "    <tr>\n",
       "      <th>7763</th>\n",
       "      <td>1</td>\n",
       "      <td>0</td>\n",
       "    </tr>\n",
       "    <tr>\n",
       "      <th>18089</th>\n",
       "      <td>0</td>\n",
       "      <td>0</td>\n",
       "    </tr>\n",
       "    <tr>\n",
       "      <th>8371</th>\n",
       "      <td>0</td>\n",
       "      <td>1</td>\n",
       "    </tr>\n",
       "    <tr>\n",
       "      <th>20869</th>\n",
       "      <td>0</td>\n",
       "      <td>0</td>\n",
       "    </tr>\n",
       "    <tr>\n",
       "      <th>11997</th>\n",
       "      <td>0</td>\n",
       "      <td>0</td>\n",
       "    </tr>\n",
       "    <tr>\n",
       "      <th>2355</th>\n",
       "      <td>0</td>\n",
       "      <td>0</td>\n",
       "    </tr>\n",
       "    <tr>\n",
       "      <th>16113</th>\n",
       "      <td>1</td>\n",
       "      <td>1</td>\n",
       "    </tr>\n",
       "    <tr>\n",
       "      <th>24358</th>\n",
       "      <td>0</td>\n",
       "      <td>0</td>\n",
       "    </tr>\n",
       "    <tr>\n",
       "      <th>5801</th>\n",
       "      <td>0</td>\n",
       "      <td>0</td>\n",
       "    </tr>\n",
       "  </tbody>\n",
       "</table>\n",
       "</div>"
      ],
      "text/plain": [
       "       Actual value  Predicted value\n",
       "25296             0                0\n",
       "7763              1                0\n",
       "18089             0                0\n",
       "8371              0                1\n",
       "20869             0                0\n",
       "11997             0                0\n",
       "2355              0                0\n",
       "16113             1                1\n",
       "24358             0                0\n",
       "5801              0                0"
      ]
     },
     "execution_count": 58,
     "metadata": {},
     "output_type": "execute_result"
    }
   ],
   "source": [
    "#Actual value and the predicted value of the Decision Tree Classifier\n",
    "a = pd.DataFrame({'Actual value': y_test, 'Predicted value':clf_pred})\n",
    "a.sample(10)"
   ]
  },
  {
   "cell_type": "code",
   "execution_count": 59,
   "metadata": {},
   "outputs": [
    {
     "data": {
      "text/html": [
       "<div>\n",
       "<style scoped>\n",
       "    .dataframe tbody tr th:only-of-type {\n",
       "        vertical-align: middle;\n",
       "    }\n",
       "\n",
       "    .dataframe tbody tr th {\n",
       "        vertical-align: top;\n",
       "    }\n",
       "\n",
       "    .dataframe thead th {\n",
       "        text-align: right;\n",
       "    }\n",
       "</style>\n",
       "<table border=\"1\" class=\"dataframe\">\n",
       "  <thead>\n",
       "    <tr style=\"text-align: right;\">\n",
       "      <th></th>\n",
       "      <th>call_direction</th>\n",
       "      <th>Test Outcome</th>\n",
       "    </tr>\n",
       "  </thead>\n",
       "  <tbody>\n",
       "    <tr>\n",
       "      <th>0</th>\n",
       "      <td>6813</td>\n",
       "      <td>8368</td>\n",
       "    </tr>\n",
       "    <tr>\n",
       "      <th>1</th>\n",
       "      <td>2043</td>\n",
       "      <td>488</td>\n",
       "    </tr>\n",
       "  </tbody>\n",
       "</table>\n",
       "</div>"
      ],
      "text/plain": [
       "   call_direction  Test Outcome\n",
       "0            6813          8368\n",
       "1            2043           488"
      ]
     },
     "execution_count": 59,
     "metadata": {},
     "output_type": "execute_result"
    }
   ],
   "source": [
    "# checking for the predictability in the test set\n",
    "clf_pred_df = pd.DataFrame(pd.Series(clf_pred).value_counts(), columns=['Test Outcome'])\n",
    "pd.concat([y_test.value_counts(), clf_pred_df], axis=1)"
   ]
  },
  {
   "cell_type": "code",
   "execution_count": 60,
   "metadata": {},
   "outputs": [
    {
     "data": {
      "image/png": "[encoded data removed]",
      "text/plain": [
       "<Figure size 576x432 with 2 Axes>"
      ]
     },
     "metadata": {
      "needs_background": "light"
     },
     "output_type": "display_data"
    }
   ],
   "source": [
    "CM(y_test, clf_pred, col_names=col_names, model='Support Vector Machine')"
   ]
  },
  {
   "cell_type": "markdown",
   "metadata": {},
   "source": [
    "Therefore, the SVM model predicted that there are 6647 incoming calls that are actually incoming calls as compared to the 322 outgoing calls that are actually outgoing calls.\n",
    "\n",
    "However, it also predicted 1721 false nagative incoming calls as as well as  166 false positives outgoing calls.\n",
    "\n",
    "In conclusion, this machine was highly biased on the incoming calls as compared to the outgoing calls hence not a good algorithm for this analysis."
   ]
  },
  {
   "cell_type": "code",
   "execution_count": 61,
   "metadata": {},
   "outputs": [
    {
     "name": "stdout",
     "output_type": "stream",
     "text": [
      "              precision    recall  f1-score   support\n",
      "\n",
      "    Incoming       0.89      0.94      0.92      6813\n",
      "    Outgoing       0.76      0.61      0.68      2043\n",
      "\n",
      "    accuracy                           0.87      8856\n",
      "   macro avg       0.83      0.78      0.80      8856\n",
      "weighted avg       0.86      0.87      0.86      8856\n",
      "\n"
     ]
    }
   ],
   "source": [
    "# evaluating using the classification report\n",
    "report = classification_report(y_test, y_pred, target_names=[\"Incoming\", \"Outgoing\"])\n",
    "print(report)"
   ]
  },
  {
   "cell_type": "markdown",
   "metadata": {},
   "source": [
    "The SVM is having an equivalent accurate score like that of the logistic regression model of 87%"
   ]
  },
  {
   "cell_type": "markdown",
   "metadata": {},
   "source": [
    "## In conclusion, the Decision Tree Classifier performs best amongst all the model and thus the most appropriate algorithm for the machine learning and prediction on the Maven Cloud Limited call dataset at 93%\n",
    "> The model thus predicted that we are likely to expect more incoming calls in the future as compared to the outgoing at a 93% accuracy degree of confidence."
   ]
  },
  {
   "cell_type": "markdown",
   "metadata": {},
   "source": [
    "## FEATURE INMPORTANCE"
   ]
  },
  {
   "cell_type": "code",
   "execution_count": 62,
   "metadata": {},
   "outputs": [
    {
     "name": "stdout",
     "output_type": "stream",
     "text": [
      "call_topic_group 0.6969278483258384\n",
      "call_duration 0.12126996622033964\n",
      "account_age 0.09114226652971619\n",
      "call_outcome 0.08529989708836398\n",
      "account_state 0.005360021835741664\n"
     ]
    }
   ],
   "source": [
    "ind = DT.feature_importances_.argsort()[::-1]\n",
    "features = DT.feature_importances_[ind]\n",
    "cols = X_train.columns[ind]\n",
    "for i in range(len(X_test.columns)):\n",
    "    print(cols[i], features[i])"
   ]
  },
  {
   "cell_type": "markdown",
   "metadata": {},
   "source": [
    "Therefore, call_topic_group and account_state are the most and least important features, consecutively, as per our predicative analysis"
   ]
  },
  {
   "cell_type": "code",
   "execution_count": null,
   "metadata": {},
   "outputs": [],
   "source": []
  },
  {
   "cell_type": "code",
   "execution_count": null,
   "metadata": {},
   "outputs": [],
   "source": []
  },
  {
   "cell_type": "code",
   "execution_count": null,
   "metadata": {},
   "outputs": [],
   "source": []
  },
  {
   "cell_type": "code",
   "execution_count": null,
   "metadata": {},
   "outputs": [],
   "source": []
  },
  {
   "cell_type": "code",
   "execution_count": null,
   "metadata": {},
   "outputs": [],
   "source": []
  }
 ],
 "metadata": {
  "kernelspec": {
   "display_name": "Python 3 (ipykernel)",
   "language": "python",
   "name": "python3"
  },
  "language_info": {
   "codemirror_mode": {
    "name": "ipython",
    "version": 3
   },
   "file_extension": ".py",
   "mimetype": "text/x-python",
   "name": "python",
   "nbconvert_exporter": "python",
   "pygments_lexer": "ipython3",
   "version": "3.11.0"
  }
 },
 "nbformat": 4,
 "nbformat_minor": 2
}
